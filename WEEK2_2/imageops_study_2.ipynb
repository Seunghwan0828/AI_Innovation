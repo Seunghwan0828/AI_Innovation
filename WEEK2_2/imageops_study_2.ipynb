{
 "metadata": {
  "language_info": {
   "codemirror_mode": {
    "name": "ipython",
    "version": 3
   },
   "file_extension": ".py",
   "mimetype": "text/x-python",
   "name": "python",
   "nbconvert_exporter": "python",
   "pygments_lexer": "ipython3",
   "version": 3
  },
  "orig_nbformat": 2
 },
 "nbformat": 4,
 "nbformat_minor": 2,
 "cells": [
  {
   "cell_type": "code",
   "execution_count": null,
   "metadata": {},
   "outputs": [],
   "source": [
    "from PIL import Image, ImageOps\n",
    "\n",
    "def autocontrast(image_path, output_path, cutoff=0, ignore=None):\n",
    "    image = Image.open(image_path)\n",
    "    converted_image = ImageOps.autocontrast(image, cutoff, ignore)\n",
    "    converted_image.save(output_path)\n",
    "\n",
    "if __name__ == '__main__':\n",
    "    autocontrast('hummingbird.jpg', 'autocontrast.jpg', cutoff=0.5)"
   ]
  },
  {
   "cell_type": "code",
   "execution_count": null,
   "metadata": {},
   "outputs": [],
   "source": [
    "from PIL import Image, ImageOps\n",
    "\n",
    "def colorize(image_path, output_path, black, white):\n",
    "    image = Image.open(image_path).convert('L')\n",
    "    converted_image = ImageOps.colorize(image, black, white)\n",
    "    converted_image.save(output_path)\n",
    "\n",
    "if __name__ == '__main__':\n",
    "    colorize('hummingbird.jpg', 'colorize.jpg', black='green', white='white')"
   ]
  },
  {
   "cell_type": "code",
   "execution_count": null,
   "metadata": {},
   "outputs": [],
   "source": [
    "from PIL import Image, ImageOps\n",
    "\n",
    "def pad(image_path, output_path, size):\n",
    "    image = Image.open(image_path)\n",
    "    converted_image = ImageOps.pad(image, size=size, color='red')\n",
    "    converted_image.save(output_path)\n",
    "\n",
    "if __name__ == '__main__':\n",
    "    pad('hummingbird.jpg', 'hummingbird_padded.jpg', size=(1700, 1300))"
   ]
  },
  {
   "cell_type": "code",
   "execution_count": null,
   "metadata": {},
   "outputs": [],
   "source": [
    "from PIL import Image, ImageOps\n",
    "\n",
    "def expand(image_path, output_path, border, fill):\n",
    "    image = Image.open(image_path)\n",
    "    converted_image = ImageOps.expand(image, border, fill)\n",
    "    converted_image.save(output_path)\n",
    "\n",
    "if __name__ == '__main__':\n",
    "    expand('hummingbird.jpg', 'hummingbird_expanded.jpg', border=100, fill=\n",
    "    'red')"
   ]
  },
  {
   "cell_type": "code",
   "execution_count": null,
   "metadata": {},
   "outputs": [],
   "source": [
    "from PIL import Image, ImageOps\n",
    "\n",
    "def crop(image_path, output_path, border):\n",
    "    image = Image.open(image_path)\n",
    "    converted_image = ImageOps.crop(image, border)\n",
    "    converted_image.save(output_path)\n",
    "\n",
    "if __name__ == '__main__':\n",
    "    crop('hummingbird.jpg', 'hummingbird_cropped.jpg', border=100)"
   ]
  },
  {
   "cell_type": "code",
   "execution_count": null,
   "metadata": {},
   "outputs": [],
   "source": [
    "from PIL import Image, ImageOps\n",
    "\n",
    "def scale(image_path, output_path, factor):\n",
    "    image = Image.open(image_path)\n",
    "    converted_image = ImageOps.scale(image, factor)\n",
    "    converted_image.save(output_path)\n",
    "\n",
    "if __name__ == '__main__':\n",
    "    scale('hummingbird.jpg', 'hummingbird_scaled.jpg', factor=5)"
   ]
  },
  {
   "cell_type": "code",
   "execution_count": null,
   "metadata": {},
   "outputs": [],
   "source": [
    "from PIL import Image, ImageOps\n",
    "\n",
    "def equalize(image_path, output_path):\n",
    "    image = Image.open(image_path)\n",
    "    converted_image = ImageOps.equalize(image)\n",
    "    converted_image.save(output_path)\n",
    "\n",
    "if __name__ == '__main__':\n",
    "    equalize('hummingbird.jpg', 'hummingbird_equalized.jpg')"
   ]
  },
  {
   "cell_type": "code",
   "execution_count": null,
   "metadata": {},
   "outputs": [],
   "source": [
    "from PIL import Image, ImageOps\n",
    "\n",
    "def fit(image_path, output_path, size, centering=(0.8, 0.8)):\n",
    "    image = Image.open(image_path)\n",
    "    converted_image = ImageOps.fit(image, size, centering=centering)\n",
    "    converted_image.save(output_path)\n",
    "\n",
    "if __name__ == '__main__':\n",
    "    fit('hummingbird.jpg', 'hummingbird_fitted.jpg', size=(400, 400))"
   ]
  },
  {
   "cell_type": "code",
   "execution_count": null,
   "metadata": {},
   "outputs": [],
   "source": [
    "from PIL import Image, ImageOps\n",
    "\n",
    "def flip(image_path, output_path):\n",
    "    image = Image.open(image_path)\n",
    "    converted_image = ImageOps.flip(image)\n",
    "    converted_image.save(output_path)\n",
    "\n",
    "if __name__ == '__main__':\n",
    "    flip('hummingbird.jpg', 'hummingbird_flipped.jpg')"
   ]
  },
  {
   "cell_type": "code",
   "execution_count": null,
   "metadata": {},
   "outputs": [],
   "source": [
    "# mirror: 좌우를 바꿔주는 것\n",
    "\n",
    "from PIL import Image, ImageOps\n",
    "\n",
    "def mirror(image_path, output_path):\n",
    "    image = Image.open(image_path)\n",
    "    converted_image = ImageOps.mirror(image)\n",
    "    converted_image.save(output_path)\n",
    "\n",
    "if __name__ == '__main__':\n",
    "    mirror('hummingbird.jpg', 'hummingbird_mirrored.jpg')"
   ]
  },
  {
   "cell_type": "code",
   "execution_count": null,
   "metadata": {},
   "outputs": [],
   "source": [
    "from PIL import Image, ImageOps\n",
    "\n",
    "def invert(image_path, output_path):\n",
    "    image = Image.open(image_path)\n",
    "    converted_image = ImageOps.invert(image)\n",
    "    converted_image.save(output_path)\n",
    "\n",
    "if __name__ == '__main__':\n",
    "    invert('hummingbird.jpg', 'hummingbird_inverted.jpg')"
   ]
  },
  {
   "cell_type": "code",
   "execution_count": null,
   "metadata": {},
   "outputs": [],
   "source": [
    "from PIL import Image, ImageOps\n",
    "\n",
    "def posterize(image_path, output_path, bits):\n",
    "    image = Image.open(image_path)\n",
    "    converted_image = ImageOps.posterize(image, bits=bits)\n",
    "    converted_image.save(output_path)\n",
    "\n",
    "if __name__ == '__main__':\n",
    "    posterize('hummingbird.jpg', 'hummingbird_posterized.jpg', bits=3) # 1 ~ 8"
   ]
  },
  {
   "cell_type": "code",
   "execution_count": null,
   "metadata": {},
   "outputs": [],
   "source": [
    "from PIL import Image, ImageOps\n",
    "\n",
    "def solarize(image_path, output_path, threshold=250):\n",
    "    image = Image.open(image_path)\n",
    "    converted_image = ImageOps.solarize(image, threshold=threshold)\n",
    "    converted_image.save(output_path)\n",
    "\n",
    "if __name__ == '__main__':\n",
    "    solarize('hummingbird.jpg', 'hummingbird_solarized.jpg')"
   ]
  },
  {
   "cell_type": "code",
   "execution_count": null,
   "metadata": {},
   "outputs": [],
   "source": [
    "from PIL import Image, ImageOps\n",
    "\n",
    "def exif_transpose(image_path, output_path):\n",
    "    image = Image.open(image_path)\n",
    "\n",
    "    exif = image.getexif()\n",
    "    orientation = exif.get(0x0112)\n",
    "    print(f\"Orientation = {orientation}\")\n",
    "\n",
    "    converted_image = ImageOps.exif_transpose(image)\n",
    "    converted_image.save(output_path)\n",
    "\n",
    "if __name__ == '__main__':\n",
    "    exif_transpose('snowman.jpg', 'snowman_exif_transposed.jpg')"
   ]
  }
 ]
}