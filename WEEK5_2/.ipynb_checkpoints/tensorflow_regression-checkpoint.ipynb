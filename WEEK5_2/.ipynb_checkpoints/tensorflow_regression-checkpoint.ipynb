{
 "cells": [
  {
   "cell_type": "markdown",
   "id": "handed-circle",
   "metadata": {},
   "source": [
    "## Regression 회귀\n",
    "* 숫자값 예측이 목적\n",
    "* 주택에 대한 정보 (방의 개수, 크기, 욕실수 등) -> 주택의 판매 가격\n",
    "* 이미지에서 어떤 항목의 경계 상자의 자료를 예측\n",
    "* 인구 통계 (연령, 성별, 인종 등) -> 의료보험 비용 등등 예측\n",
    "\n",
    "* 입력 (데이터) -> 패턴을 발견하는 신경망 -> 출력 (예축)\n",
    "1. 분석하기 쉬운 형태로 데이터를 준비\n",
    "2. 패턴을 발견하는 신경망을 만들기\n",
    "3. 만든 신경망의 결과를 확인"
   ]
  },
  {
   "cell_type": "markdown",
   "id": "composed-interview",
   "metadata": {},
   "source": [
    "[Regression](https://en.wikipedia.org/wiki/Regression_analysis)"
   ]
  },
  {
   "cell_type": "markdown",
   "id": "thirty-retreat",
   "metadata": {},
   "source": [
    "## 앞으로 우리가 할일\n",
    "1. 회귀 모델의 아키텍쳐를 확인\n",
    "2. 입력과 출력의 형태를 생성\n",
    "   - 'X' : feature / 데이터 (입력)\n",
    "   - 'Y' : 레이블 (Label) (출력)\n",
    "3. 모델링 단계\n",
    "    1) 모델 생성\n",
    "    2) 모델 컴파일\n",
    "        - 손실 함수 정의\n",
    "        - 최적화 프로그램 설정\n",
    "        - 평가 지표 생성\n",
    "    3) 모델 피팅 (데이터에서 패턴을 찾기)\n",
    "4. 모델 평가\n",
    "    1) 모델 시각화\n",
    "    2) 학습 곡선 확인\n",
    "    3) 예측 결과를 실제 데이터와 비교 (평가 지표 사용)\n",
    "5. 모델 저장 (나중의 사용을 위해서)\n",
    "6. 모델 가져와서 사용하기"
   ]
  },
  {
   "cell_type": "markdown",
   "id": "documented-spoke",
   "metadata": {},
   "source": [
    "## 회귀 신경망의 일반적인 아키텍쳐\n",
    "\n",
    "신경만을 생성하는 방법은 매우 다양합니다. 그래도, 일반적인 방법이 존재\n",
    "\n",
    "데이터 수집 -> 데이터에서 패턴 찾기 -> 결과 만들기"
   ]
  },
  {
   "cell_type": "markdown",
   "id": "effective-vanilla",
   "metadata": {},
   "source": [
    "* input Layer (입력층) : 특성 (feature, column, variable)의 갯수 (shape)\n",
    "* Hidden Layer (은닉층) : 해결하는 문제에 따라 최소 1개 이상으로 이루어진다.\n",
    "* 은닉층 각각을 구성하는 뉴련 : 해결하는 문제에 따라 최소 10개 ~ 최대 100 개로 이루어진다.\n",
    "* Output Layer shape (출력층의 형태) : 우리가 예측값을 얻고자 하는 형태 (주택의 가격이라면 1)\n",
    "* 은닉층의 확성화 함수 : [ReLU](https://www.kaggle.com/dansbecker/rectified-linear-units-relu-in-deep-learning) (Rectified Linear Unit)\n",
    "* 출력층의 활성화 함수 : None, ReLU, logistic/tanh\n",
    "* 손실함수 : MSE (Mean Square Error), MAE (Mean Absolute Error) / Huber (MAE와 MSE의 조합) 특이값들이 있을때 사용\n",
    "* 옵티마이저 (최적화) : SGD (Stochastic Gradient Descent), Adam"
   ]
  },
  {
   "cell_type": "markdown",
   "id": "impressive-resort",
   "metadata": {},
   "source": [
    "* **hyperparameter** *(하이퍼 파라미터)* : 머신 러닝 분야에서 하이퍼파라미터라는 단어는 데이터 분석가나 개발자들이 설정하는 값\n",
    "* **parameter** *(파라미터)* : (분석가나 개발자들이 명시적으로 설정한 값이 아닌) 모델이 스스로 파악한 값 "
   ]
  },
  {
   "cell_type": "markdown",
   "id": "interpreted-harmony",
   "metadata": {},
   "source": [
    "## 이제 우리는 **regression problem (회귀 문제)**를 다룹니다!\n",
    "\n",
    "회귀 --> 특정 값을 예측!"
   ]
  },
  {
   "cell_type": "code",
   "execution_count": null,
   "id": "supposed-fusion",
   "metadata": {},
   "outputs": [],
   "source": [
    "import tensorflow as tf\n",
    "import pandas as pd\n",
    "import numpy as np\n",
    "import matplotlib.pyplot as plt"
   ]
  },
  {
   "cell_type": "code",
   "execution_count": null,
   "id": "unique-replication",
   "metadata": {},
   "outputs": [],
   "source": [
    "# feature 특성, 변수\n",
    "X = np.array([-7.0, -4.0, -1.0, 2.0, 5.0, 8.0, 11.0, 14.0])\n",
    "\n",
    "# Label\n",
    "y = np.array([3.0, 6.0, 9.0, 12.0, 15.0, 18.0, 21.0, 24.0])\n",
    "\n",
    "plt.scatter(X, y)"
   ]
  },
  {
   "cell_type": "markdown",
   "id": "amber-clone",
   "metadata": {},
   "source": [
    "모델을 만들기전에 EDA (Explorary Data Analysis) 탐색적 자료 분석을 해서\n",
    "\n",
    "위의 경우처럼 X, Y의 관계, 즉 패턴을 찾으려고 한다!\n",
    "\n",
    "위의 패턴이라면 17은 어떤 값일까? -10은 어떤 값일까?"
   ]
  },
  {
   "cell_type": "markdown",
   "id": "creative-mounting",
   "metadata": {},
   "source": [
    "## 신경망 (neural network)로 작업을 할 때 가장 중요한 몇가지 개념!\n",
    "\n",
    "### **input shape (입력 모양)** : 모델을 만들기 위한 데이터의 형태\n",
    "### **output shape (출력 모양)** : 모델을 통해서 예측하고자 하는 데이터의 형태\n",
    "\n",
    "문제에 따라 입력과 출력의 모양 각기 각각!\n",
    "\n",
    "신경망은 숫자를 입력 받고, 숫자를 출력! 이 때 일반적으로 tensor나 array로 처리합니다."
   ]
  },
  {
   "cell_type": "code",
   "execution_count": null,
   "id": "endangered-highlight",
   "metadata": {},
   "outputs": [],
   "source": [
    "house_info = tf.constant([\"bedroom\", \"bathroom\", \"garage\"])\n",
    "house_price = tf.constant([939700])\n",
    "house_info, house_price"
   ]
  },
  {
   "cell_type": "code",
   "execution_count": null,
   "id": "civic-england",
   "metadata": {},
   "outputs": [],
   "source": [
    "house_info.shape"
   ]
  },
  {
   "cell_type": "code",
   "execution_count": null,
   "id": "front-mixture",
   "metadata": {},
   "outputs": [],
   "source": [
    "# feature 특성, 변수\n",
    "X = tf.constant([-7.0, -4.0, -1.0, 2.0, 5.0, 8.0, 11.0, 14.0])\n",
    "\n",
    "# Label\n",
    "y = tf.constant([3.0, 6.0, 9.0, 12.0, 15.0, 18.0, 21.0, 24.0])\n",
    "\n",
    "plt.scatter(X, y)"
   ]
  },
  {
   "cell_type": "code",
   "execution_count": null,
   "id": "regular-spread",
   "metadata": {},
   "outputs": [],
   "source": [
    "input_shape = X[0].shape\n",
    "output_shape = y[0].shape\n",
    "\n",
    "input_shape, type(input_shape), X[0].ndim, output_shape, type(output_shape)"
   ]
  },
  {
   "cell_type": "code",
   "execution_count": null,
   "id": "professional-foster",
   "metadata": {},
   "outputs": [],
   "source": [
    "X[0], y[0]"
   ]
  },
  {
   "cell_type": "markdown",
   "id": "french-sacramento",
   "metadata": {},
   "source": [
    "## 모델링 과정\n",
    "### 현재 우리가 알고 있는 데이터, 입력의 shape, 출력의 shape\n",
    "Tensorflow에서는 일반적으로 모델을 생성하고 학습할 때 3단계를 실행\n",
    "\n",
    "1. **모델정의** : 우리가 직접 신경망 (neural network)를 구성하는 레이어를 정의하거나 (전이학습시) 이전에 만들어놓은 모델을 불러온다 \n",
    "2. **모델 컴파일** : 모델이 어떻게 실행될지 정의, 측정값 (손실함수, metric)과 개선을 하는 방법 (optimizer)\n",
    "3. **모델 피팅** : 데이터에서 패턴을 찾도록 모델에게 일을 시킴 (X가 어떻게 y가 될까?)"
   ]
  },
  {
   "cell_type": "code",
   "execution_count": null,
   "id": "institutional-treasure",
   "metadata": {},
   "outputs": [],
   "source": [
    "tf.random.set_seed(42)\n",
    "\n",
    "model = tf.keras.Sequential([\n",
    "    tf.keras.layers.Dense(1)\n",
    "])\n",
    "\n",
    "model.compile(\n",
    "    loss = tf.keras.losses.mae,\n",
    "    optimizer = tf.keras.optimizers.SGD(),\n",
    "    metrics = [\"mae\"]\n",
    ")\n",
    "\n",
    "model.fit(X, y, epochs=5)"
   ]
  },
  {
   "cell_type": "code",
   "execution_count": null,
   "id": "internal-pantyhose",
   "metadata": {},
   "outputs": [],
   "source": [
    "X, y"
   ]
  },
  {
   "cell_type": "code",
   "execution_count": null,
   "id": "alpine-script",
   "metadata": {},
   "outputs": [],
   "source": [
    "model.predict([17.0, -10.0])"
   ]
  },
  {
   "cell_type": "markdown",
   "id": "sharing-orleans",
   "metadata": {},
   "source": [
    "### 위 모델의 결과를 봤을 때, 간단히만 봐도 27.0을 예상했는데 전혀 다른 값을 얻었다.\n",
    "### 뭔가 모델이 이상하다! 개선을 시켜야 겠다!"
   ]
  },
  {
   "cell_type": "markdown",
   "id": "simplified-newton",
   "metadata": {},
   "source": [
    "## 모델 개선시키기\n",
    "현재까지 생성한 모델을 기반으로 개선을 시킨다라는 개념\n",
    "\n",
    "1. **모델 정의 부분** : 레이어를 추가하거나, 레이어를 이루는 neuron 단위를 추가, 활성 함수를 변경\n",
    "2. **모델 컴파일** : optimizer를 변경, 최적화 함수를 수행하는 learning rat를 변경\n",
    "3. **모델 피팅** : epoch를 늘려주거나, 데이터를 더 많이 준다."
   ]
  },
  {
   "cell_type": "code",
   "execution_count": null,
   "id": "acting-friday",
   "metadata": {},
   "outputs": [],
   "source": [
    "tf.random.set_seed(42)\n",
    "\n",
    "model = tf.keras.Sequential([\n",
    "    tf.keras.layers.Dense(1)\n",
    "])\n",
    "\n",
    "model.compile(\n",
    "    loss = tf.keras.losses.mae,\n",
    "    optimizer = tf.keras.optimizers.SGD(),\n",
    "    metrics = [\"mae\"]\n",
    ")\n",
    "\n",
    "model.fit(X, y, epochs=200)"
   ]
  },
  {
   "cell_type": "code",
   "execution_count": null,
   "id": "historical-paintball",
   "metadata": {},
   "outputs": [],
   "source": [
    "X, y"
   ]
  },
  {
   "cell_type": "code",
   "execution_count": null,
   "id": "chemical-biology",
   "metadata": {},
   "outputs": [],
   "source": [
    "model.predict([17.0, -10.0])"
   ]
  },
  {
   "cell_type": "code",
   "execution_count": null,
   "id": "complete-trace",
   "metadata": {},
   "outputs": [],
   "source": [
    "X = np.arange(-100, 100, 4)\n",
    "X"
   ]
  },
  {
   "cell_type": "code",
   "execution_count": null,
   "id": "piano-leather",
   "metadata": {},
   "outputs": [],
   "source": [
    "y = np.arange(-90, 110, 4)\n",
    "y"
   ]
  },
  {
   "cell_type": "code",
   "execution_count": null,
   "id": "vocal-shoulder",
   "metadata": {},
   "outputs": [],
   "source": [
    "# 원래 X, y의 관계 y = X + 10의 관걔\n",
    "y = X + 10\n",
    "y"
   ]
  },
  {
   "cell_type": "code",
   "execution_count": null,
   "id": "negative-surface",
   "metadata": {},
   "outputs": [],
   "source": [
    "# 보통 학습 및 테스트 데이터를 나눌때 80:20의 비율을 사용\n",
    "X_train = X[:40]\n",
    "y_train = y[:40]\n",
    "\n",
    "X_test = X[40:]\n",
    "y_test = y[40:]\n",
    "\n",
    "len(X_train), len(X_test)"
   ]
  },
  {
   "cell_type": "code",
   "execution_count": null,
   "id": "western-eight",
   "metadata": {},
   "outputs": [],
   "source": [
    "plt.figure(figsize=(10,7))\n",
    "plt.scatter(X_train, y_train, c=\"b\", label=\"Training data\")\n",
    "plt.scatter(X_test, y_test, c=\"g\", label=\"Testing data\")\n",
    "plt.legend()"
   ]
  },
  {
   "cell_type": "code",
   "execution_count": null,
   "id": "minus-geometry",
   "metadata": {},
   "outputs": [],
   "source": [
    "tf.random.set_seed(42)\n",
    "\n",
    "model = tf.keras.Sequential([\n",
    "    tf.keras.layers.Dense(1)\n",
    "])\n",
    "\n",
    "model.compile(\n",
    "    loss = tf.keras.losses.mae,\n",
    "    optimizer = tf.keras.optimizers.SGD(),\n",
    "    metrics = [\"mae\"]\n",
    ")\n",
    "\n",
    "model.fit(X, y, epochs=100)"
   ]
  },
  {
   "cell_type": "code",
   "execution_count": null,
   "id": "checked-meter",
   "metadata": {},
   "outputs": [],
   "source": [
    "model.summary()"
   ]
  },
  {
   "cell_type": "markdown",
   "id": "patient-publisher",
   "metadata": {},
   "source": [
    "* **Total params** : 모델에 존재하는 파라미터의 총 갯수\n",
    "* **TRainable params** : 모델이 학습을 하면서 최신화할 수 있는 파라미터\n",
    "* **Non-trainable params** : 모델이 학습을 하면서 최신화할 수 없는 파라미터"
   ]
  },
  {
   "cell_type": "code",
   "execution_count": null,
   "id": "dietary-weapon",
   "metadata": {},
   "outputs": [],
   "source": [
    "tf.random.set_seed(42)\n",
    "\n",
    "model = tf.keras.Sequential([\n",
    "    tf.keras.layers.Dense(1, input_shape=[1])\n",
    "])\n",
    "\n",
    "model.compile(\n",
    "    loss = tf.keras.losses.mae,\n",
    "    optimizer = tf.keras.optimizers.SGD(),\n",
    "    metrics = [\"mae\"]\n",
    ")"
   ]
  },
  {
   "cell_type": "code",
   "execution_count": null,
   "id": "regulated-reservation",
   "metadata": {},
   "outputs": [],
   "source": [
    "model.summary()"
   ]
  },
  {
   "cell_type": "code",
   "execution_count": null,
   "id": "meaning-stream",
   "metadata": {},
   "outputs": [],
   "source": [
    "model.fit(X, y, epochs=100)"
   ]
  },
  {
   "cell_type": "code",
   "execution_count": null,
   "id": "cutting-murray",
   "metadata": {},
   "outputs": [],
   "source": [
    "model.summary()"
   ]
  },
  {
   "cell_type": "code",
   "execution_count": null,
   "id": "arbitrary-dietary",
   "metadata": {},
   "outputs": [],
   "source": [
    "from tensorflow.keras.utils import plot_model\n",
    "\n",
    "plot_model(model, show_shapes=True)"
   ]
  },
  {
   "cell_type": "code",
   "execution_count": null,
   "id": "linear-chester",
   "metadata": {},
   "outputs": [],
   "source": [
    "y_predicts = model.predict(X_test)\n",
    "y_predicts"
   ]
  },
  {
   "cell_type": "code",
   "execution_count": null,
   "id": "capital-safety",
   "metadata": {},
   "outputs": [],
   "source": [
    "def plot_predictions(\n",
    "    train_data = X_train,\n",
    "    train_labels = y_train,\n",
    "    test_data = X_test,\n",
    "    test_labels = y_test,\n",
    "    prediction = y_predicts\n",
    "):\n",
    "    plt.figure(figsize = (10, 7))\n",
    "    plt.scatter(train_data, train_labels, c=\"b\", label=\"Training data\")\n",
    "    plt.scatter(test_data, test_labels, c=\"g\", label=\"Testing data\")\n",
    "    plt.scatter(test_data, prediction, c=\"r\", label=\"Predictions\")"
   ]
  },
  {
   "cell_type": "code",
   "execution_count": null,
   "id": "therapeutic-faith",
   "metadata": {},
   "outputs": [],
   "source": [
    "plot_predictions(\n",
    "    train_data = X_train,\n",
    "    train_labels = y_train,\n",
    "    test_data = X_test,\n",
    "    test_labels = y_test,\n",
    "    prediction = y_predicts\n",
    ")"
   ]
  },
  {
   "cell_type": "markdown",
   "id": "subsequent-washer",
   "metadata": {},
   "source": [
    "### 모델의 결과를 시각화하는 것도 중요하지만 metric을 확인하는것도 모델을 평가하는데 도움이 된다."
   ]
  },
  {
   "cell_type": "code",
   "execution_count": null,
   "id": "portable-patch",
   "metadata": {},
   "outputs": [],
   "source": [
    "model.evaluate(X_test, y_test)"
   ]
  },
  {
   "cell_type": "markdown",
   "id": "sized-inflation",
   "metadata": {},
   "source": [
    "## regression(회귀) 문제에서 주로 많이 사용하는 지표 2가지\n",
    "**1. Mean absolute error (MAE)** : 실제값과 예측값과의 차이의 평균\n",
    "\n",
    "**2. Mean squared error (MSE)** : 실제값과 예측값과의 차이의 제곱의 평균\n",
    "\n",
    "Tensorflowdml model.evaluate()는 모델의 손실 함수의 값 뿐만 아니라 metric까지 반환해준다!"
   ]
  },
  {
   "cell_type": "code",
   "execution_count": null,
   "id": "jewish-monthly",
   "metadata": {},
   "outputs": [],
   "source": [
    "mae = tf.metrics.mean_absolute_error(\n",
    "    y_true = y_test,\n",
    "    y_pred = y_predicts\n",
    ")\n",
    "mae"
   ]
  },
  {
   "cell_type": "code",
   "execution_count": null,
   "id": "precious-torture",
   "metadata": {},
   "outputs": [],
   "source": [
    "y_test, y_predicts"
   ]
  },
  {
   "cell_type": "code",
   "execution_count": null,
   "id": "interior-grove",
   "metadata": {},
   "outputs": [],
   "source": [
    "y_test.shape, y_predicts.shape"
   ]
  },
  {
   "cell_type": "code",
   "execution_count": null,
   "id": "documentary-crack",
   "metadata": {},
   "outputs": [],
   "source": [
    "y_predicts.squeeze().shape"
   ]
  },
  {
   "cell_type": "code",
   "execution_count": null,
   "id": "greatest-finish",
   "metadata": {},
   "outputs": [],
   "source": [
    "# MAE 구하기\n",
    "mae = tf.metrics.mean_absolute_error(\n",
    "    y_true = y_test,\n",
    "    y_pred = y_predicts.squeeze()\n",
    ")\n",
    "mae"
   ]
  },
  {
   "cell_type": "code",
   "execution_count": null,
   "id": "studied-witness",
   "metadata": {},
   "outputs": [],
   "source": [
    "# MSE 구하기\n",
    "mse = tf.metrics.mean_squared_error(\n",
    "    y_true = y_test,\n",
    "    y_pred = y_predicts.squeeze()\n",
    ")\n",
    "mse"
   ]
  },
  {
   "cell_type": "code",
   "execution_count": null,
   "id": "engaged-cocktail",
   "metadata": {},
   "outputs": [],
   "source": [
    "tf.reduce_mean(tf.abs(y_test - y_predicts.squeeze()))"
   ]
  },
  {
   "cell_type": "code",
   "execution_count": null,
   "id": "convinced-layer",
   "metadata": {},
   "outputs": [],
   "source": [
    "def mae(y_test, y_predicts):\n",
    "    return tf.metrics.mean_absolute_error(y_test,y_predicts)\n",
    "\n",
    "def mse(y_test, y_predicts):\n",
    "    return tf.metrics.mean_squared_error(y_test,y_predicts)"
   ]
  },
  {
   "cell_type": "markdown",
   "id": "handy-davis",
   "metadata": {},
   "source": [
    "## 모델이 평가한 예측도 살펴보고, metric도 평가해 본 후에 우리는 개선하기를 원합니다.\n",
    "\n",
    "### 개선시 주로 활용할 수 있는 3가지 방법\n",
    "**1. 더 많은 데이터** : 모델이 학습할 데이터를 주면 줄수록 모델이 패턴을 찾을 기회가 많아진다.\n",
    "\n",
    "**2. 모델을 더 확장 (좀더 고급 모델로 만든다)** : 레이어를 추가하거나, 각 레이어를 이루는 neuron의 갯수를 조정\n",
    "\n",
    "**3. 더 오래 학습을 한다** : 데이터에 숨겨진 패턴을 찾는 더 많은 기회를 얻을 수 있다."
   ]
  },
  {
   "cell_type": "markdown",
   "id": "filled-module",
   "metadata": {},
   "source": [
    "## 실습용 모델 3개 만들 예정\n",
    "1. model_1 : 원래 모델 그대로 사용 : layer 1개, epoch : 100\n",
    "\n",
    "2. model_2 : layer 2개, epoch : 100\n",
    "\n",
    "3. model_2 : layer 2개, epoch : 500"
   ]
  },
  {
   "cell_type": "markdown",
   "id": "useful-peeing",
   "metadata": {},
   "source": [
    "# model_1 생성"
   ]
  },
  {
   "cell_type": "code",
   "execution_count": null,
   "id": "distant-irish",
   "metadata": {},
   "outputs": [],
   "source": [
    "tf.random.set_seed(42)\n",
    "\n",
    "model_1 = tf.keras.Sequential([\n",
    "    tf.keras.layers.Dense(1)\n",
    "])\n",
    "\n",
    "model_1.compile(\n",
    "    loss = tf.keras.losses.mae,\n",
    "    optimizer = tf.keras.optimizers.SGD(),\n",
    "    metrics = [\"mae\"]\n",
    ")\n",
    "model_1.fit(X_train, y_train, epochs=100)"
   ]
  },
  {
   "cell_type": "code",
   "execution_count": null,
   "id": "legal-reference",
   "metadata": {},
   "outputs": [],
   "source": [
    "y_predicts_1 = model_1.predict(X_test)\n",
    "plot_predictions(prediction = y_predicts_1)"
   ]
  },
  {
   "cell_type": "code",
   "execution_count": null,
   "id": "developed-indian",
   "metadata": {},
   "outputs": [],
   "source": [
    "mae_1 = mae(y_test, y_predicts_1.squeeze()).numpy()\n",
    "mse_1 = mse(y_test, y_predicts_1.squeeze()).numpy()\n",
    "mae_1, mse_1"
   ]
  },
  {
   "cell_type": "markdown",
   "id": "underlying-porcelain",
   "metadata": {},
   "source": [
    "# model_2 생성"
   ]
  },
  {
   "cell_type": "code",
   "execution_count": null,
   "id": "efficient-possible",
   "metadata": {},
   "outputs": [],
   "source": [
    "tf.random.set_seed(42)\n",
    "\n",
    "model_2 = tf.keras.Sequential([\n",
    "    tf.keras.layers.Dense(1),\n",
    "    tf.keras.layers.Dense(1)\n",
    "    \n",
    "])\n",
    "\n",
    "model_2.compile(\n",
    "    loss = tf.keras.losses.mae,\n",
    "    optimizer = tf.keras.optimizers.SGD(),\n",
    "    metrics = [\"mae\"]\n",
    ")\n",
    "model_2.fit(X_train, y_train, epochs=100)"
   ]
  },
  {
   "cell_type": "code",
   "execution_count": null,
   "id": "ceramic-jones",
   "metadata": {},
   "outputs": [],
   "source": [
    "y_predicts_2 = model_2.predict(X_test)\n",
    "plot_predictions(prediction = y_predicts_2)"
   ]
  },
  {
   "cell_type": "code",
   "execution_count": null,
   "id": "hawaiian-christian",
   "metadata": {},
   "outputs": [],
   "source": [
    "mae_2 = mae(y_test, y_predicts_2.squeeze()).numpy()\n",
    "mse_2 = mse(y_test, y_predicts_2.squeeze()).numpy()\n",
    "mae_2, mse_2"
   ]
  },
  {
   "cell_type": "markdown",
   "id": "sealed-bouquet",
   "metadata": {},
   "source": [
    "# model_3 생성"
   ]
  },
  {
   "cell_type": "code",
   "execution_count": null,
   "id": "technical-genesis",
   "metadata": {},
   "outputs": [],
   "source": [
    "tf.random.set_seed(42)\n",
    "\n",
    "model_3 = tf.keras.Sequential([\n",
    "    tf.keras.layers.Dense(1),\n",
    "    tf.keras.layers.Dense(1)\n",
    "    \n",
    "])\n",
    "\n",
    "model_3.compile(\n",
    "    loss = tf.keras.losses.mae,\n",
    "    optimizer = tf.keras.optimizers.SGD(),\n",
    "    metrics = [\"mae\"]\n",
    ")\n",
    "model_3.fit(X_train, y_train, epochs=500)"
   ]
  },
  {
   "cell_type": "code",
   "execution_count": null,
   "id": "apart-sapphire",
   "metadata": {},
   "outputs": [],
   "source": [
    "y_predicts_3 = model_3.predict(X_test)\n",
    "plot_predictions(prediction = y_predicts_3)"
   ]
  },
  {
   "cell_type": "code",
   "execution_count": null,
   "id": "intermediate-lawyer",
   "metadata": {},
   "outputs": [],
   "source": [
    "mae_3 = mae(y_test, y_predicts_3.squeeze()).numpy()\n",
    "mse_3 = mse(y_test, y_predicts_3.squeeze()).numpy()\n",
    "mae_3, mse_3"
   ]
  },
  {
   "cell_type": "code",
   "execution_count": null,
   "id": "phantom-picture",
   "metadata": {},
   "outputs": [],
   "source": [
    "model_results = [\n",
    "    [\"model_1\", mae_1, mse_1],\n",
    "    [\"model_2\", mae_2, mse_2],\n",
    "    [\"model_3\", mae_3, mse_3],\n",
    "]\n",
    "model_results"
   ]
  },
  {
   "cell_type": "code",
   "execution_count": null,
   "id": "continuing-canon",
   "metadata": {},
   "outputs": [],
   "source": [
    "all_results = pd.DataFrame(model_results, columns = [\"mode\", \"mae\", \"mse\"])\n",
    "all_results"
   ]
  },
  {
   "cell_type": "markdown",
   "id": "promotional-pulse",
   "metadata": {},
   "source": [
    "### 위의 결과를 보면 model_2가 가장 좋은 결과를 얻는 다는 것을 알 수 있다.\n",
    "### 이런 과정이 머신 러닝 모델링 과정이며, 이런 여러가지 조합을 해보고 최고의 성능내는 조합을 선택하는 과정\n",
    "\n",
    "## 우리의 목표는 예측과 실제값의 차이를 줄이는 것이 목표\n",
    "## 실험을 하면 할 수록, 무엇이 잘 안 되고 무엇이 잘 되는지 알수있습니다.\n",
    "## 실헒 실험 실험!"
   ]
  },
  {
   "cell_type": "markdown",
   "id": "spanish-apache",
   "metadata": {},
   "source": [
    "## 현재까지 고생해서\n",
    "### 모델을 학습시키고\n",
    "### 가장 좋은 결과르 ㄹ낼 수 있도록 모델을 튜닝했고\n",
    "### 이제 우리는 그 모델을 저장해야 합니다! 왜? 나중에 사용하기위해!\n",
    "---\n",
    "**model.save()**를 사용합니다.\n",
    "\n",
    "**Tensorflow**에서 [모델을 저장하는 방법](https://www.tensorflow.org/tutorials/keras/save_and_load#savedmodel_format)\n",
    "1. SaveModel 형식 (default) : 대부분의 경우 이 형식을 사용합니다.\n",
    "2. HDF5 형식"
   ]
  },
  {
   "cell_type": "code",
   "execution_count": null,
   "id": "rental-china",
   "metadata": {},
   "outputs": [],
   "source": [
    "# SaveModel 형식\n",
    "model_2.save(\"best_model_SavedModel_format\")"
   ]
  },
  {
   "cell_type": "code",
   "execution_count": null,
   "id": "changing-insertion",
   "metadata": {},
   "outputs": [],
   "source": [
    "# HDF5 형식\n",
    "model_2.save(\"best_model_HDF5_foramt.h5\")"
   ]
  },
  {
   "cell_type": "markdown",
   "id": "correct-seeker",
   "metadata": {},
   "source": [
    "# 저장된 모델을 불러와서 활용! \n",
    "kernel restart!\n",
    "\n",
    "load_model()"
   ]
  },
  {
   "cell_type": "code",
   "execution_count": 1,
   "id": "driven-sapphire",
   "metadata": {},
   "outputs": [],
   "source": [
    "import tensorflow as tf\n",
    "import pandas as pd\n",
    "import numpy as np\n",
    "import matplotlib.pyplot as plt"
   ]
  },
  {
   "cell_type": "code",
   "execution_count": 3,
   "id": "prime-australia",
   "metadata": {},
   "outputs": [],
   "source": [
    "X =  np.arange(-100, 100, 4)\n",
    "y = np.arange(-90, 110, 4)\n",
    "\n",
    "X_train = X[:40]\n",
    "y_train = y[:40]\n",
    "\n",
    "X_test = X[40:]\n",
    "y_test = y[40:]"
   ]
  },
  {
   "cell_type": "code",
   "execution_count": 6,
   "id": "supposed-satin",
   "metadata": {},
   "outputs": [],
   "source": [
    "def mae(y_test, y_predicts):\n",
    "    return tf.metrics.mean_absolute_error(y_test,y_predicts)\n",
    "\n",
    "def mse(y_test, y_predicts):\n",
    "    return tf.metrics.mean_squared_error(y_test,y_predicts)"
   ]
  },
  {
   "cell_type": "code",
   "execution_count": 2,
   "id": "thick-interview",
   "metadata": {},
   "outputs": [
    {
     "name": "stdout",
     "output_type": "stream",
     "text": [
      "Model: \"sequential_6\"\n",
      "_________________________________________________________________\n",
      "Layer (type)                 Output Shape              Param #   \n",
      "=================================================================\n",
      "dense_6 (Dense)              (None, 1)                 2         \n",
      "_________________________________________________________________\n",
      "dense_7 (Dense)              (None, 1)                 2         \n",
      "=================================================================\n",
      "Total params: 4\n",
      "Trainable params: 4\n",
      "Non-trainable params: 0\n",
      "_________________________________________________________________\n"
     ]
    }
   ],
   "source": [
    "# SaveModel 형식의 모델을 불러오기\n",
    "loaded_saved_model = tf.keras.models.load_model(\"best_model_SavedModel_format\")\n",
    "loaded_saved_model.summary()"
   ]
  },
  {
   "cell_type": "code",
   "execution_count": 10,
   "id": "accurate-island",
   "metadata": {},
   "outputs": [
    {
     "data": {
      "text/plain": [
       "array([[ 69.467125],\n",
       "       [ 73.9856  ],\n",
       "       [ 78.50408 ],\n",
       "       [ 83.02256 ],\n",
       "       [ 87.54104 ],\n",
       "       [ 92.05952 ],\n",
       "       [ 96.577995],\n",
       "       [101.09647 ],\n",
       "       [105.61495 ],\n",
       "       [110.13344 ]], dtype=float32)"
      ]
     },
     "execution_count": 10,
     "metadata": {},
     "output_type": "execute_result"
    }
   ],
   "source": [
    "model_2_predicts_saved_model = loaded_saved_model.predict(X_test)\n",
    "model_2_predicts_saved_model"
   ]
  },
  {
   "cell_type": "code",
   "execution_count": 11,
   "id": "analyzed-selling",
   "metadata": {},
   "outputs": [
    {
     "data": {
      "text/plain": [
       "(1.9097328, 5.45877)"
      ]
     },
     "execution_count": 11,
     "metadata": {},
     "output_type": "execute_result"
    }
   ],
   "source": [
    "mae(y_test, model_2_predicts_saved_model.squeeze()).numpy(), mse(y_test, model_2_predicts_saved_model.squeeze()).numpy()"
   ]
  },
  {
   "cell_type": "code",
   "execution_count": 12,
   "id": "labeled-school",
   "metadata": {},
   "outputs": [
    {
     "name": "stdout",
     "output_type": "stream",
     "text": [
      "Model: \"sequential_6\"\n",
      "_________________________________________________________________\n",
      "Layer (type)                 Output Shape              Param #   \n",
      "=================================================================\n",
      "dense_6 (Dense)              (None, 1)                 2         \n",
      "_________________________________________________________________\n",
      "dense_7 (Dense)              (None, 1)                 2         \n",
      "=================================================================\n",
      "Total params: 4\n",
      "Trainable params: 4\n",
      "Non-trainable params: 0\n",
      "_________________________________________________________________\n"
     ]
    }
   ],
   "source": [
    "loaded_saved_model_h5 = tf.keras.models.load_model(\"best_model_HDF5_foramt.h5\")\n",
    "loaded_saved_model_h5.summary()"
   ]
  },
  {
   "cell_type": "code",
   "execution_count": 13,
   "id": "statewide-highland",
   "metadata": {},
   "outputs": [
    {
     "data": {
      "text/plain": [
       "array([[ 69.467125],\n",
       "       [ 73.9856  ],\n",
       "       [ 78.50408 ],\n",
       "       [ 83.02256 ],\n",
       "       [ 87.54104 ],\n",
       "       [ 92.05952 ],\n",
       "       [ 96.577995],\n",
       "       [101.09647 ],\n",
       "       [105.61495 ],\n",
       "       [110.13344 ]], dtype=float32)"
      ]
     },
     "execution_count": 13,
     "metadata": {},
     "output_type": "execute_result"
    }
   ],
   "source": [
    "# HDF5 형식의 모델을 불러오기\n",
    "model_2_predicts_model_h5 = loaded_saved_model_h5.predict(X_test)\n",
    "model_2_predicts_model_h5"
   ]
  },
  {
   "cell_type": "code",
   "execution_count": 14,
   "id": "designing-producer",
   "metadata": {},
   "outputs": [
    {
     "data": {
      "text/plain": [
       "(1.9097328, 5.45877)"
      ]
     },
     "execution_count": 14,
     "metadata": {},
     "output_type": "execute_result"
    }
   ],
   "source": [
    "mae(y_test, model_2_predicts_model_h5.squeeze()).numpy(), mse(y_test, model_2_predicts_model_h5.squeeze()).numpy()"
   ]
  },
  {
   "cell_type": "code",
   "execution_count": null,
   "id": "affiliated-stroke",
   "metadata": {},
   "outputs": [],
   "source": []
  }
 ],
 "metadata": {
  "kernelspec": {
   "display_name": "Python 3",
   "language": "python",
   "name": "python3"
  },
  "language_info": {
   "codemirror_mode": {
    "name": "ipython",
    "version": 3
   },
   "file_extension": ".py",
   "mimetype": "text/x-python",
   "name": "python",
   "nbconvert_exporter": "python",
   "pygments_lexer": "ipython3",
   "version": "3.8.8"
  }
 },
 "nbformat": 4,
 "nbformat_minor": 5
}
