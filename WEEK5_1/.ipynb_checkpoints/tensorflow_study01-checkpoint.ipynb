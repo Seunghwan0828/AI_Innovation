{
 "cells": [
  {
   "cell_type": "code",
   "execution_count": 36,
   "id": "taken-specialist",
   "metadata": {},
   "outputs": [
    {
     "name": "stdout",
     "output_type": "stream",
     "text": [
      "2.5.0\n"
     ]
    }
   ],
   "source": [
    "# 별칭을 tf으로 하는 것이 일반적!\n",
    "\n",
    "import tensorflow as tf\n",
    "print(tf.__version__)"
   ]
  },
  {
   "cell_type": "code",
   "execution_count": 37,
   "id": "fresh-vision",
   "metadata": {},
   "outputs": [
    {
     "data": {
      "text/plain": [
       "<tf.Tensor: shape=(), dtype=int32, numpy=7>"
      ]
     },
     "execution_count": 37,
     "metadata": {},
     "output_type": "execute_result"
    }
   ],
   "source": [
    "# 거의 대부분 우리가 직접 tensor(텐서)를 생성하는 경우는 없습니다.\n",
    "# Tensorflowrk가 tr.io나 tf.data라는 모듈을 기본적으로 가지고 있어서,\n",
    "# 데이터를 가져와서 자동으로 tensor로 전환 (변환)을 해줍니다.\n",
    "# 이 변환된 텐서를 나중에 neural network(신경망)에서 사용합니다.\n",
    "\n",
    "# tensor를 이해하기 위해 직접 만들어 보겠습니다.\n",
    "# tensorflow에서 사용하는 (constant)를 생성\n",
    "# scalar를 생성 (rank가 0인 텐서), scalar는 어떠한 차원을 가지고 있지 않기 때0문! 그냥 단순히 숫자!\n",
    "scalar = tf.constant(7)\n",
    "scalar"
   ]
  },
  {
   "cell_type": "code",
   "execution_count": 38,
   "id": "reserved-reverse",
   "metadata": {},
   "outputs": [
    {
     "data": {
      "text/plain": [
       "0"
      ]
     },
     "execution_count": 38,
     "metadata": {},
     "output_type": "execute_result"
    }
   ],
   "source": [
    "# 해당 텐서의 차원 수를 알려줍니다. ndim은 number of dimensions의 약자 해당 텐서의 차원 수를 알려줍니다.\n",
    "scalar.ndim"
   ]
  },
  {
   "cell_type": "code",
   "execution_count": 39,
   "id": "wanted-member",
   "metadata": {},
   "outputs": [
    {
     "data": {
      "text/plain": [
       "<tf.Tensor: shape=(2,), dtype=int32, numpy=array([10, 10], dtype=int32)>"
      ]
     },
     "execution_count": 39,
     "metadata": {},
     "output_type": "execute_result"
    }
   ],
   "source": [
    "# 벡터를 생성 (차원이 0보다 큰 것)\n",
    "vector = tf.constant([10, 10])\n",
    "vector"
   ]
  },
  {
   "cell_type": "code",
   "execution_count": 40,
   "id": "acting-alabama",
   "metadata": {},
   "outputs": [
    {
     "data": {
      "text/plain": [
       "1"
      ]
     },
     "execution_count": 40,
     "metadata": {},
     "output_type": "execute_result"
    }
   ],
   "source": [
    "vector.ndim"
   ]
  },
  {
   "cell_type": "code",
   "execution_count": 41,
   "id": "korean-diagnosis",
   "metadata": {},
   "outputs": [
    {
     "data": {
      "text/plain": [
       "<tf.Tensor: shape=(2, 2), dtype=int32, numpy=\n",
       "array([[10,  7],\n",
       "       [ 7, 10]], dtype=int32)>"
      ]
     },
     "execution_count": 41,
     "metadata": {},
     "output_type": "execute_result"
    }
   ],
   "source": [
    "# 행렬 (matrix)생성 (차원이 1보다 큰것)\n",
    "matrix = tf.constant([\n",
    "    [10, 7],\n",
    "    [7, 10]\n",
    "])\n",
    "matrix"
   ]
  },
  {
   "cell_type": "code",
   "execution_count": 42,
   "id": "innovative-corps",
   "metadata": {},
   "outputs": [
    {
     "data": {
      "text/plain": [
       "2"
      ]
     },
     "execution_count": 42,
     "metadata": {},
     "output_type": "execute_result"
    }
   ],
   "source": [
    "matrix.ndim"
   ]
  },
  {
   "cell_type": "code",
   "execution_count": 43,
   "id": "sustainable-kansas",
   "metadata": {},
   "outputs": [],
   "source": [
    "# Tensorflow는 기본적으로 int32나 float32 자료형으로 tensor를 생성합니다.\n",
    "# 32-bit precision이다! 숫자가 높으면 높을 수록 precision도 높아지고 컴퓨터가 사용할 메모리 커집니다."
   ]
  },
  {
   "cell_type": "code",
   "execution_count": 44,
   "id": "tribal-heading",
   "metadata": {},
   "outputs": [
    {
     "data": {
      "text/plain": [
       "<tf.Tensor: shape=(3, 2), dtype=float32, numpy=\n",
       "array([[10.,  7.],\n",
       "       [ 3.,  2.],\n",
       "       [ 8.,  9.]], dtype=float32)>"
      ]
     },
     "execution_count": 44,
     "metadata": {},
     "output_type": "execute_result"
    }
   ],
   "source": [
    "# 새로운 행렬을 생성하고 데이터형을 지정\n",
    "another_matrix = tf.constant([\n",
    "    [10., 7.],\n",
    "    [3., 2.],\n",
    "    [8., 9.]\n",
    "])\n",
    "another_matrix"
   ]
  },
  {
   "cell_type": "code",
   "execution_count": 45,
   "id": "vanilla-florist",
   "metadata": {},
   "outputs": [
    {
     "data": {
      "text/plain": [
       "<tf.Tensor: shape=(3, 2), dtype=float16, numpy=\n",
       "array([[10.,  7.],\n",
       "       [ 3.,  2.],\n",
       "       [ 8.,  9.]], dtype=float16)>"
      ]
     },
     "execution_count": 45,
     "metadata": {},
     "output_type": "execute_result"
    }
   ],
   "source": [
    "another_matrix = tf.constant([\n",
    "    [10., 7.],\n",
    "    [3., 2.],\n",
    "    [8., 9.]\n",
    "], dtype=tf.float16)\n",
    "another_matrix"
   ]
  },
  {
   "cell_type": "code",
   "execution_count": 46,
   "id": "interim-manhattan",
   "metadata": {},
   "outputs": [
    {
     "data": {
      "text/plain": [
       "2"
      ]
     },
     "execution_count": 46,
     "metadata": {},
     "output_type": "execute_result"
    }
   ],
   "source": [
    "another_matrix.ndim"
   ]
  },
  {
   "cell_type": "code",
   "execution_count": 47,
   "id": "ready-salmon",
   "metadata": {},
   "outputs": [
    {
     "data": {
      "text/plain": [
       "<tf.Tensor: shape=(3, 2, 3), dtype=int32, numpy=\n",
       "array([[[ 1,  2,  3],\n",
       "        [ 4,  5,  6]],\n",
       "\n",
       "       [[ 7,  8,  9],\n",
       "        [10, 11, 12]],\n",
       "\n",
       "       [[13, 14, 15],\n",
       "        [16, 17, 18]]], dtype=int32)>"
      ]
     },
     "execution_count": 47,
     "metadata": {},
     "output_type": "execute_result"
    }
   ],
   "source": [
    "# tensor를 생성 (차원이 2보다 큰것)\n",
    "tensor = tf.constant([\n",
    "    [\n",
    "        [1, 2, 3],\n",
    "        [4, 5, 6]\n",
    "    ],\n",
    "    [\n",
    "        [7, 8, 9],\n",
    "        [10, 11, 12]\n",
    "    ],\n",
    "    [\n",
    "        [13, 14, 15],\n",
    "        [16, 17, 18]\n",
    "    ]\n",
    "])\n",
    "tensor"
   ]
  },
  {
   "cell_type": "code",
   "execution_count": 48,
   "id": "incorrect-above",
   "metadata": {},
   "outputs": [
    {
     "data": {
      "text/plain": [
       "3"
      ]
     },
     "execution_count": 48,
     "metadata": {},
     "output_type": "execute_result"
    }
   ],
   "source": [
    "tensor.ndim"
   ]
  },
  {
   "cell_type": "code",
   "execution_count": 49,
   "id": "studied-calibration",
   "metadata": {},
   "outputs": [],
   "source": [
    "# rank = dimension\n",
    "# scalar, vector, matrix, tensor로 굳이 앞에서 정의를 했지만,\n",
    "# 이론적으로 모두 tensor 입니다. 즉 rank가 0, 1, 2, 3인 tensor로 이야기 할 수 있습니다.\n",
    "# tensor는 임의 (즉,  제한이 없는) 차원을 가질수 있습니다."
   ]
  },
  {
   "cell_type": "code",
   "execution_count": 50,
   "id": "closing-chest",
   "metadata": {},
   "outputs": [],
   "source": [
    "# 이미지들을 처리한다고 할 때, (224, 224, 3, 32)라고 표현을 할 떄\n",
    "# 224, 224는 픽셀로 표현을 했을때 높이와 너비를 의미하고,\n",
    "# 3은 이미지 채널 수 (red, greed, blue)\n",
    "# 32는 배치 사이즈 (1번 실행시 신경망이 1번에 처리할 수 있는 이미지의 갯수)"
   ]
  },
  {
   "cell_type": "code",
   "execution_count": 51,
   "id": "patent-origin",
   "metadata": {},
   "outputs": [],
   "source": [
    "# 위에서 선언한 모든 constant는 모두 tensor에 속하지만, 위에서와 각자의 부른 이름 존재\n",
    "# scalar: 단일한 숫자 (0차원 tensor)\n",
    "# vector: 방향이 있는 숫자 (1차원 tensor)\n",
    "# matrix: 숫자로 이루어진 2차원 배열 (2차원 tensor)\n",
    "# tensor: 숫자로 이루어진 n차원 배열"
   ]
  },
  {
   "cell_type": "markdown",
   "id": "operational-concrete",
   "metadata": {},
   "source": [
    "![스칼라 벡터 행렬 텐서 구분하기](scalar-vector-matrix-tensor.png)"
   ]
  },
  {
   "cell_type": "code",
   "execution_count": 54,
   "id": "acquired-toronto",
   "metadata": {},
   "outputs": [],
   "source": [
    "# 변수 생성\n",
    "# tf.Variable()"
   ]
  },
  {
   "cell_type": "code",
   "execution_count": 55,
   "id": "veterinary-portuguese",
   "metadata": {},
   "outputs": [],
   "source": [
    "# tf.Variabel와 tf.constant의 차이점\n",
    "# ==> tf.constant로 생성한 텐서는 immutable (변경 불가)\n",
    "# ==> tf.Variable로 생성한 텐서는 mutable (변경 가능)"
   ]
  },
  {
   "cell_type": "code",
   "execution_count": null,
   "id": "systematic-jacket",
   "metadata": {},
   "outputs": [],
   "source": [
    "changeable_tensor = tf.Variable([10, 7])"
   ]
  },
  {
   "cell_type": "code",
   "execution_count": 57,
   "id": "beneficial-psychiatry",
   "metadata": {},
   "outputs": [],
   "source": [
    "unchangeable_tensor = tf.constant([10, 7])"
   ]
  },
  {
   "cell_type": "code",
   "execution_count": 58,
   "id": "democratic-tsunami",
   "metadata": {},
   "outputs": [
    {
     "data": {
      "text/plain": [
       "(<tf.Variable 'Variable:0' shape=(2,) dtype=int32, numpy=array([10,  7], dtype=int32)>,\n",
       " <tf.Tensor: shape=(2,), dtype=int32, numpy=array([10,  7], dtype=int32)>)"
      ]
     },
     "execution_count": 58,
     "metadata": {},
     "output_type": "execute_result"
    }
   ],
   "source": [
    "changeable_tensor, unchangeable_tensor"
   ]
  },
  {
   "cell_type": "code",
   "execution_count": 59,
   "id": "related-yukon",
   "metadata": {},
   "outputs": [
    {
     "data": {
      "text/plain": [
       "<tf.Variable 'Variable:0' shape=(2,) dtype=int32, numpy=array([7, 7], dtype=int32)>"
      ]
     },
     "execution_count": 59,
     "metadata": {},
     "output_type": "execute_result"
    }
   ],
   "source": [
    "changeable_tensor[0].assign(7)\n",
    "changeable_tensor"
   ]
  },
  {
   "cell_type": "code",
   "execution_count": 60,
   "id": "inclusive-interview",
   "metadata": {},
   "outputs": [],
   "source": [
    "# tf.constant 및 tf.Variable중에 어떤 것을 사용해야 할까요?\n",
    "# 상황에 따라 다릅니다. Tensorflow가 우리를 위해서 tensor를 직접 생성하는데,\n",
    "# 이때(데이터를 불러올 때나 데이터를 모델링) 알아서 constant 및 Variable를 선택해서 생성합니다."
   ]
  },
  {
   "cell_type": "code",
   "execution_count": 61,
   "id": "turned-phrase",
   "metadata": {},
   "outputs": [],
   "source": [
    "random_1 = tf.random.Generator.from_seed(42)\n",
    "random_1 = random_1.normal(shape=(3, 2))\n",
    "\n",
    "random_2 = tf.random.Generator.from_seed(42)\n",
    "random_2 = random_2.normal(shape=(3, 2))"
   ]
  },
  {
   "cell_type": "code",
   "execution_count": 62,
   "id": "international-prior",
   "metadata": {},
   "outputs": [
    {
     "data": {
      "text/plain": [
       "(<tf.Tensor: shape=(3, 2), dtype=float32, numpy=\n",
       " array([[-0.7565803 , -0.06854702],\n",
       "        [ 0.07595026, -1.2573844 ],\n",
       "        [-0.23193763, -1.8107855 ]], dtype=float32)>,\n",
       " <tf.Tensor: shape=(3, 2), dtype=float32, numpy=\n",
       " array([[-0.7565803 , -0.06854702],\n",
       "        [ 0.07595026, -1.2573844 ],\n",
       "        [-0.23193763, -1.8107855 ]], dtype=float32)>,\n",
       " <tf.Tensor: shape=(3, 2), dtype=bool, numpy=\n",
       " array([[ True,  True],\n",
       "        [ True,  True],\n",
       "        [ True,  True]])>)"
      ]
     },
     "execution_count": 62,
     "metadata": {},
     "output_type": "execute_result"
    }
   ],
   "source": [
    "random_1, random_2, random_1 == random_2"
   ]
  },
  {
   "cell_type": "markdown",
   "id": "hired-beginning",
   "metadata": {},
   "source": [
    "[psedurandom numper]https://www.computerhope.com/jargon/p/pseudo-random.htm\n",
    "\n",
    "[tensorflow random number API를 설명한 웹페이지]https://www.tensorflow.org/guide/random_numbers?hl=ko"
   ]
  },
  {
   "cell_type": "code",
   "execution_count": 65,
   "id": "sweet-county",
   "metadata": {},
   "outputs": [],
   "source": [
    "random_3 = tf.random.Generator.from_seed(42)\n",
    "random_3 = random_3.normal(shape=(3, 2))\n",
    "\n",
    "random_4 = tf.random.Generator.from_seed(11)\n",
    "random_4 = random_4.normal(shape=(3, 2))"
   ]
  },
  {
   "cell_type": "code",
   "execution_count": 66,
   "id": "sunrise-whole",
   "metadata": {},
   "outputs": [
    {
     "data": {
      "text/plain": [
       "(<tf.Tensor: shape=(3, 2), dtype=float32, numpy=\n",
       " array([[-0.7565803 , -0.06854702],\n",
       "        [ 0.07595026, -1.2573844 ],\n",
       "        [-0.23193763, -1.8107855 ]], dtype=float32)>,\n",
       " <tf.Tensor: shape=(3, 2), dtype=float32, numpy=\n",
       " array([[ 0.27305737, -0.29925638],\n",
       "        [-0.3652325 ,  0.61883307],\n",
       "        [-1.0130816 ,  0.28291714]], dtype=float32)>,\n",
       " <tf.Tensor: shape=(3, 2), dtype=bool, numpy=\n",
       " array([[False, False],\n",
       "        [False, False],\n",
       "        [False, False]])>)"
      ]
     },
     "execution_count": 66,
     "metadata": {},
     "output_type": "execute_result"
    }
   ],
   "source": [
    "random_3, random_4, random_3 == random_4"
   ]
  },
  {
   "cell_type": "code",
   "execution_count": 68,
   "id": "following-wonder",
   "metadata": {},
   "outputs": [
    {
     "data": {
      "text/plain": [
       "<tf.Tensor: shape=(3, 2), dtype=int32, numpy=\n",
       "array([[10,  7],\n",
       "       [ 3,  4],\n",
       "       [ 2,  5]], dtype=int32)>"
      ]
     },
     "execution_count": 68,
     "metadata": {},
     "output_type": "execute_result"
    }
   ],
   "source": [
    "not_shuffled = tf.constant([\n",
    "    [10, 7],\n",
    "    [3, 4],\n",
    "    [2, 5]\n",
    "])\n",
    "not_shuffled"
   ]
  },
  {
   "cell_type": "code",
   "execution_count": 69,
   "id": "funny-generic",
   "metadata": {},
   "outputs": [
    {
     "data": {
      "text/plain": [
       "2"
      ]
     },
     "execution_count": 69,
     "metadata": {},
     "output_type": "execute_result"
    }
   ],
   "source": [
    "not_shuffled.ndim"
   ]
  },
  {
   "cell_type": "code",
   "execution_count": 94,
   "id": "located-cooling",
   "metadata": {},
   "outputs": [
    {
     "data": {
      "text/plain": [
       "<tf.Tensor: shape=(3, 2), dtype=int32, numpy=\n",
       "array([[ 3,  4],\n",
       "       [10,  7],\n",
       "       [ 2,  5]], dtype=int32)>"
      ]
     },
     "execution_count": 94,
     "metadata": {},
     "output_type": "execute_result"
    }
   ],
   "source": [
    "tf.random.shuffle(not_shuffled)"
   ]
  },
  {
   "cell_type": "code",
   "execution_count": 103,
   "id": "roman-stewart",
   "metadata": {},
   "outputs": [
    {
     "data": {
      "text/plain": [
       "<tf.Tensor: shape=(3, 2), dtype=int32, numpy=\n",
       "array([[10,  7],\n",
       "       [ 2,  5],\n",
       "       [ 3,  4]], dtype=int32)>"
      ]
     },
     "execution_count": 103,
     "metadata": {},
     "output_type": "execute_result"
    }
   ],
   "source": [
    "tf.random.shuffle(not_shuffled, seed=42)"
   ]
  },
  {
   "cell_type": "markdown",
   "id": "identical-church",
   "metadata": {},
   "source": [
    "[set seed 설명 웹페이지] https://www.tensorflow.org/api_docs/python/tf/random/set_seed"
   ]
  },
  {
   "cell_type": "code",
   "execution_count": 104,
   "id": "likely-continuity",
   "metadata": {},
   "outputs": [
    {
     "data": {
      "text/plain": [
       "<tf.Tensor: shape=(3, 2), dtype=int32, numpy=\n",
       "array([[ 3,  4],\n",
       "       [ 2,  5],\n",
       "       [10,  7]], dtype=int32)>"
      ]
     },
     "execution_count": 104,
     "metadata": {},
     "output_type": "execute_result"
    }
   ],
   "source": [
    "# tf.random.set_seed(42)\n",
    "\n",
    "tf.random.shuffle(not_shuffled, seed=42)"
   ]
  },
  {
   "cell_type": "code",
   "execution_count": 105,
   "id": "mighty-republican",
   "metadata": {},
   "outputs": [
    {
     "data": {
      "text/plain": [
       "<tf.Tensor: shape=(3, 2, 3), dtype=float32, numpy=\n",
       "array([[[1., 1., 1.],\n",
       "        [1., 1., 1.]],\n",
       "\n",
       "       [[1., 1., 1.],\n",
       "        [1., 1., 1.]],\n",
       "\n",
       "       [[1., 1., 1.],\n",
       "        [1., 1., 1.]]], dtype=float32)>"
      ]
     },
     "execution_count": 105,
     "metadata": {},
     "output_type": "execute_result"
    }
   ],
   "source": [
    "tf.ones(shape=(3, 2, 3))"
   ]
  },
  {
   "cell_type": "code",
   "execution_count": 106,
   "id": "optical-oliver",
   "metadata": {},
   "outputs": [
    {
     "data": {
      "text/plain": [
       "<tf.Tensor: shape=(3, 2), dtype=float32, numpy=\n",
       "array([[0., 0.],\n",
       "       [0., 0.],\n",
       "       [0., 0.]], dtype=float32)>"
      ]
     },
     "execution_count": 106,
     "metadata": {},
     "output_type": "execute_result"
    }
   ],
   "source": [
    "tf.zeros(shape=(3, 2))"
   ]
  },
  {
   "cell_type": "markdown",
   "id": "disturbed-pitch",
   "metadata": {},
   "source": [
    "# 1\n",
    "## 2\n",
    "### 3\n",
    "#### 4\n",
    "##### 5\n",
    "###### 6\n",
    "\n",
    "## tensor의 형태와 numpy array의 형식이 같다\n",
    "### tensor는 GPU에서 실행이 가능하다\n",
    "\n",
    "### 행렬이나 텐서는 대문자로 이름 표기하고\n",
    "### 벡터는 소문자로 이름을 표기"
   ]
  },
  {
   "cell_type": "code",
   "execution_count": 122,
   "id": "material-nature",
   "metadata": {},
   "outputs": [
    {
     "data": {
      "text/plain": [
       "array([ 1,  2,  3,  4,  5,  6,  7,  8,  9, 10, 11, 12, 13, 14, 15, 16, 17,\n",
       "       18, 19, 20, 21, 22, 23, 24, 25], dtype=int32)"
      ]
     },
     "execution_count": 122,
     "metadata": {},
     "output_type": "execute_result"
    }
   ],
   "source": [
    "import numpy as np\n",
    "\n",
    "numpy_A = np.arange(1, 26, dtype=np.int32) # 1 ~ 25를 포함하는 Numpy array을 생성\n",
    "numpy_A"
   ]
  },
  {
   "cell_type": "code",
   "execution_count": 123,
   "id": "refined-calgary",
   "metadata": {},
   "outputs": [
    {
     "data": {
      "text/plain": [
       "<tf.Tensor: shape=(1, 5, 5), dtype=int32, numpy=\n",
       "array([[[ 1,  2,  3,  4,  5],\n",
       "        [ 6,  7,  8,  9, 10],\n",
       "        [11, 12, 13, 14, 15],\n",
       "        [16, 17, 18, 19, 20],\n",
       "        [21, 22, 23, 24, 25]]], dtype=int32)>"
      ]
     },
     "execution_count": 123,
     "metadata": {},
     "output_type": "execute_result"
    }
   ],
   "source": [
    "tensor_A = tf.constant(numpy_A, shape = [1, 5, 5]) # 5행 5열 짜리 행렬을 1개가 존재하는 텐서를 생성\n",
    "tensor_A"
   ]
  },
  {
   "cell_type": "code",
   "execution_count": 124,
   "id": "fiscal-queensland",
   "metadata": {},
   "outputs": [
    {
     "data": {
      "text/plain": [
       "3"
      ]
     },
     "execution_count": 124,
     "metadata": {},
     "output_type": "execute_result"
    }
   ],
   "source": [
    "tensor_A.ndim"
   ]
  },
  {
   "cell_type": "markdown",
   "id": "breathing-poker",
   "metadata": {},
   "source": [
    "# tensor (텐서)에서 정보를 얻어오기 "
   ]
  },
  {
   "cell_type": "markdown",
   "id": "derived-juice",
   "metadata": {},
   "source": [
    "* Shape : 텐서의 차원에 존재하는 값들의 개수\n",
    "* Rank : 텐서 차원의 수, Scalar는 rank 0, Vector는 rank 1, Matrix는 rank 2, tensor rank가 n\n",
    "* Axis : Rank와 같다\n",
    "* Dimension : Rank와 같다\n",
    "* Size : tensor에 존재하는 값을 총 개수"
   ]
  },
  {
   "cell_type": "code",
   "execution_count": 127,
   "id": "authorized-train",
   "metadata": {},
   "outputs": [
    {
     "data": {
      "text/plain": [
       "<tf.Tensor: shape=(2, 3, 4, 5), dtype=float32, numpy=\n",
       "array([[[[0., 0., 0., 0., 0.],\n",
       "         [0., 0., 0., 0., 0.],\n",
       "         [0., 0., 0., 0., 0.],\n",
       "         [0., 0., 0., 0., 0.]],\n",
       "\n",
       "        [[0., 0., 0., 0., 0.],\n",
       "         [0., 0., 0., 0., 0.],\n",
       "         [0., 0., 0., 0., 0.],\n",
       "         [0., 0., 0., 0., 0.]],\n",
       "\n",
       "        [[0., 0., 0., 0., 0.],\n",
       "         [0., 0., 0., 0., 0.],\n",
       "         [0., 0., 0., 0., 0.],\n",
       "         [0., 0., 0., 0., 0.]]],\n",
       "\n",
       "\n",
       "       [[[0., 0., 0., 0., 0.],\n",
       "         [0., 0., 0., 0., 0.],\n",
       "         [0., 0., 0., 0., 0.],\n",
       "         [0., 0., 0., 0., 0.]],\n",
       "\n",
       "        [[0., 0., 0., 0., 0.],\n",
       "         [0., 0., 0., 0., 0.],\n",
       "         [0., 0., 0., 0., 0.],\n",
       "         [0., 0., 0., 0., 0.]],\n",
       "\n",
       "        [[0., 0., 0., 0., 0.],\n",
       "         [0., 0., 0., 0., 0.],\n",
       "         [0., 0., 0., 0., 0.],\n",
       "         [0., 0., 0., 0., 0.]]]], dtype=float32)>"
      ]
     },
     "execution_count": 127,
     "metadata": {},
     "output_type": "execute_result"
    }
   ],
   "source": [
    "rank_4_tensor = tf.zeros([2, 3, 4, 5])\n",
    "rank_4_tensor"
   ]
  },
  {
   "cell_type": "code",
   "execution_count": 128,
   "id": "geographic-heath",
   "metadata": {},
   "outputs": [
    {
     "data": {
      "text/plain": [
       "(TensorShape([2, 3, 4, 5]), 4, <tf.Tensor: shape=(), dtype=int32, numpy=120>)"
      ]
     },
     "execution_count": 128,
     "metadata": {},
     "output_type": "execute_result"
    }
   ],
   "source": [
    "rank_4_tensor.shape, rank_4_tensor.ndim, tf.size(rank_4_tensor)"
   ]
  },
  {
   "cell_type": "code",
   "execution_count": 129,
   "id": "every-filter",
   "metadata": {},
   "outputs": [
    {
     "name": "stdout",
     "output_type": "stream",
     "text": [
      "텐서에 존재하는 값들의 자료형 :  <dtype: 'float32'>\n",
      "텐서에 차원 (rank) :  4\n",
      "텐서에 0번째 axis :  2\n",
      "텐서에 마지막 axis :  5\n",
      "텐서에 모든 값들의 갯수 :  120\n"
     ]
    }
   ],
   "source": [
    "print(\"텐서에 존재하는 값들의 자료형 : \", rank_4_tensor.dtype)\n",
    "print(\"텐서에 차원 (rank) : \", rank_4_tensor.ndim)\n",
    "print(\"텐서에 0번째 axis : \", rank_4_tensor.shape[0])\n",
    "print(\"텐서에 마지막 axis : \", rank_4_tensor.shape[-1])\n",
    "print(\"텐서에 모든 값들의 갯수 : \", tf.size(rank_4_tensor).numpy())"
   ]
  },
  {
   "cell_type": "code",
   "execution_count": 130,
   "id": "distinguished-budget",
   "metadata": {},
   "outputs": [],
   "source": [
    "# Numpy array -> tensor 변환 가능\n",
    "# tensor -> Numpy array 변환 가능"
   ]
  },
  {
   "cell_type": "code",
   "execution_count": 132,
   "id": "trained-burden",
   "metadata": {},
   "outputs": [
    {
     "data": {
      "text/plain": [
       "<tf.Tensor: shape=(2, 2, 2, 2), dtype=float32, numpy=\n",
       "array([[[[0., 0.],\n",
       "         [0., 0.]],\n",
       "\n",
       "        [[0., 0.],\n",
       "         [0., 0.]]],\n",
       "\n",
       "\n",
       "       [[[0., 0.],\n",
       "         [0., 0.]],\n",
       "\n",
       "        [[0., 0.],\n",
       "         [0., 0.]]]], dtype=float32)>"
      ]
     },
     "execution_count": 132,
     "metadata": {},
     "output_type": "execute_result"
    }
   ],
   "source": [
    "rank_4_tensor[:2, :2, :2, :2]"
   ]
  },
  {
   "cell_type": "code",
   "execution_count": 133,
   "id": "republican-building",
   "metadata": {},
   "outputs": [
    {
     "data": {
      "text/plain": [
       "<tf.Tensor: shape=(1, 1, 1, 5), dtype=float32, numpy=array([[[[0., 0., 0., 0., 0.]]]], dtype=float32)>"
      ]
     },
     "execution_count": 133,
     "metadata": {},
     "output_type": "execute_result"
    }
   ],
   "source": [
    "rank_4_tensor[:1, :1, :1, :]"
   ]
  }
 ],
 "metadata": {
  "kernelspec": {
   "display_name": "Python 3",
   "language": "python",
   "name": "python3"
  },
  "language_info": {
   "codemirror_mode": {
    "name": "ipython",
    "version": 3
   },
   "file_extension": ".py",
   "mimetype": "text/x-python",
   "name": "python",
   "nbconvert_exporter": "python",
   "pygments_lexer": "ipython3",
   "version": "3.8.8"
  }
 },
 "nbformat": 4,
 "nbformat_minor": 5
}
