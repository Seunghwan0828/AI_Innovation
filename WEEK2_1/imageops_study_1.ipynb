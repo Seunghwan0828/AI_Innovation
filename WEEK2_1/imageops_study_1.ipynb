{
 "metadata": {
  "language_info": {
   "codemirror_mode": {
    "name": "ipython",
    "version": 3
   },
   "file_extension": ".py",
   "mimetype": "text/x-python",
   "name": "python",
   "nbconvert_exporter": "python",
   "pygments_lexer": "ipython3",
   "version": "3.9.5"
  },
  "orig_nbformat": 2,
  "kernelspec": {
   "name": "python395jvsc74a57bd09b0fd201ea7331130c560fc55eb67530def459b300e283f895ded95e2d83441c",
   "display_name": "Python 3.9.5 64-bit ('venv_week2_2')"
  },
  "metadata": {
   "interpreter": {
    "hash": "9b0fd201ea7331130c560fc55eb67530def459b300e283f895ded95e2d83441c"
   }
  }
 },
 "nbformat": 4,
 "nbformat_minor": 2,
 "cells": [
  {
   "cell_type": "code",
   "execution_count": 2,
   "metadata": {},
   "outputs": [],
   "source": [
    "# pillow의 ImageOps 모듈 / 이미지 처리를 함\n",
    "\n",
    "from PIL import Image, ImageOps\n",
    "\n",
    "def autocontrast(image_path, output_path, cutoff=0, ignore=None):\n",
    "    image = Image.open(image_path)\n",
    "    converted_image = ImageOps.autocontrast(image, cutoff, ignore)\n",
    "    converted_image.save(output_path)\n",
    "\n",
    "if __name__ == \"__main__\":\n",
    "    autocontrast(\"hummingbird.jpg\", \"autocontrast.jpg\", cutoff=0.8)"
   ]
  },
  {
   "cell_type": "code",
   "execution_count": null,
   "metadata": {},
   "outputs": [],
   "source": [
    "# pillow의 ImageOps 모듈 / 이미지 처리를 함\n",
    "\n",
    "from PIL import Image, ImageOps\n",
    "\n",
    "def colorize(image_path, output_path, black, white:\n",
    "    image = Image.open(image_path)\n",
    "    converted_image = ImageOps.colorize(image, black, white)\n",
    "    converted_image.save(output_path)\n",
    "\n",
    "if __name__ == \"__main__\":\n",
    "    colorize(\"hummingbird.jpg\", \"colorize.jpg\", black=\"green\", white=\"white\")"
   ]
  },
  {
   "cell_type": "code",
   "execution_count": null,
   "metadata": {},
   "outputs": [],
   "source": []
  }
 ]
}