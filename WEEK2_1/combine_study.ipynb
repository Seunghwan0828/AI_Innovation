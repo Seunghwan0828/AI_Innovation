{
 "metadata": {
  "language_info": {
   "codemirror_mode": {
    "name": "ipython",
    "version": 3
   },
   "file_extension": ".py",
   "mimetype": "text/x-python",
   "name": "python",
   "nbconvert_exporter": "python",
   "pygments_lexer": "ipython3",
   "version": "3.9.5"
  },
  "orig_nbformat": 2,
  "kernelspec": {
   "name": "python395jvsc74a57bd02bc7bb3578061b6ee77252c89360eaabcc087b4df69c2f48165510883e0d1ac4",
   "display_name": "Python 3.9.5 64-bit ('venv_week2')"
  },
  "metadata": {
   "interpreter": {
    "hash": "2bc7bb3578061b6ee77252c89360eaabcc087b4df69c2f48165510883e0d1ac4"
   }
  }
 },
 "nbformat": 4,
 "nbformat_minor": 2,
 "cells": [
  {
   "cell_type": "code",
   "execution_count": 13,
   "metadata": {},
   "outputs": [
    {
     "output_type": "execute_result",
     "data": {
      "text/plain": [
       "'1.21.0.dev0+1512.gd908afddf'"
      ]
     },
     "metadata": {},
     "execution_count": 13
    }
   ],
   "source": [
    "import numpy as np\n",
    "np.__version__"
   ]
  },
  {
   "cell_type": "code",
   "execution_count": 11,
   "metadata": {},
   "outputs": [],
   "source": [
    "from PIL import Image\n",
    "\n",
    "def paste_demo(image_path,output_path,crop_coords):\n",
    "    image = Image.open(image_path)\n",
    "    cropped_image = image.crop(crop_coords)\n",
    "    image.paste(cropped_image, (0,0))\n",
    "    image.save(output_path)\n",
    "\n",
    "if __name__ == \"__main__\":\n",
    "    coords = (125, 712, 642, 963)\n",
    "    paste_demo(\"hummingbird.jpg\",\"hummingbird_pasted.jpg\",coords)"
   ]
  },
  {
   "cell_type": "code",
   "execution_count": 12,
   "metadata": {},
   "outputs": [
    {
     "output_type": "stream",
     "name": "stdout",
     "text": [
      "1440\n1195\n517\n251\n"
     ]
    }
   ],
   "source": [
    "from PIL import Image\n",
    "\n",
    "def image_tiling(image_path, output_path, crop_coords):\n",
    "    image = Image.open(image_path)\n",
    "    width, height = image.size\n",
    "    print(width)\n",
    "    print(height)\n",
    "    new_image = Image.new(\"RGB\", (width, height))\n",
    "\n",
    "    cropped_image = image.crop(crop_coords)\n",
    "    cropped_width, cropped_height = cropped_image.size\n",
    "    print(cropped_width)\n",
    "    print(cropped_height)\n",
    "\n",
    "    for left_pos in range(0, width, cropped_width):\n",
    "        for top_pos in range(0, height, cropped_height):\n",
    "            new_image.paste(cropped_image, (left_pos, top_pos))\n",
    "    new_image.save(output_path)\n",
    "\n",
    "if __name__ == \"__main__\":\n",
    "    coords = (125, 712, 642, 963)\n",
    "    image_tiling(\"hummingbird.jpg\",\"hummingbird_tiling.jpg\",coords)"
   ]
  },
  {
   "cell_type": "code",
   "execution_count": 4,
   "metadata": {},
   "outputs": [],
   "source": [
    "# Image Concatenate / String Concatenate\n",
    "# 너비를 기준으로 하든, 높이를 기준으로 하든 연결하는 이미지의 너비나 높이가 같아야 최고의 연결 결과를 얻을 수 있다\n",
    "\n",
    "# 같은 크기가 아닐 경우\n",
    "# 1) 어떤 이미지를 crop해서 연결하거나\n",
    "# 2) 이미지 크기를 조정하거나\n",
    "# 3) 이미지 2개중 작은 것에 margin (이미지 이곽)를 추가\n",
    "\n",
    "from PIL import Image\n",
    "\n",
    "def concatenate_vertically(first_image_path, second_image_path, output_image_path):\n",
    "    image_one = Image.open(first_image_path)\n",
    "    image_two = Image.open(second_image_path)\n",
    "    height = image_one.height + image_two.height\n",
    "    width = min(image_one.width, image_two.width)\n",
    "    new_image = Image.new(\"RGB\", (image_one.width, height))\n",
    "\n",
    "    new_image.paste(image_one, (0,0))\n",
    "    new_image.paste(image_two, (0, image_one.height))\n",
    "\n",
    "    new_image.save(output_image_path)\n",
    "\n",
    "\n",
    "def concatenate_horizontally(first_image_path, second_image_path, output_image_path):\n",
    "    image_one = Image.open(first_image_path)\n",
    "    image_two = Image.open(second_image_path)\n",
    "    height = min(image_one.height, image_two.height)\n",
    "    width = image_one.width + image_two.width\n",
    "    new_image = Image.new(\"RGB\", (width, image_one.height))\n",
    "\n",
    "    new_image.paste(image_one, (0,0))\n",
    "    new_image.paste(image_two, (image_one.width, 0))\n",
    "\n",
    "    new_image.save(output_image_path)\n",
    "\n",
    "if __name__ == \"__main__\":\n",
    "    concatenate_vertically(\"hummingbird.jpg\",\"silver_falls2.jpg\",\"silver_vertivally.jpg\")\n",
    "    concatenate_horizontally(\"hummingbird.jpg\",\"silver_falls2.jpg\",\"silver_horiziontally.jpg\")"
   ]
  },
  {
   "cell_type": "code",
   "execution_count": 3,
   "metadata": {},
   "outputs": [],
   "source": [
    "# watermark\n",
    "\n",
    "from PIL import Image\n",
    "\n",
    "def watermark(input_image_path, output_image_path, watermark_image_path, position):\n",
    "    base_image = Image.open(input_image_path)\n",
    "    watermark_image = Image.open(watermark_image_path)\n",
    "\n",
    "    base_image.paste(watermark_image, position)\n",
    "    base_image.save(output_image_path)\n",
    "\n",
    "if __name__ == \"__main__\":\n",
    "    watermark(\"hummingbird.jpg\", \"hummingbird_watermarked.jpg\", \"logo.png\", position=(10,10))"
   ]
  },
  {
   "cell_type": "code",
   "execution_count": 6,
   "metadata": {},
   "outputs": [],
   "source": [
    "# watermark 처리를 할때 transparency를 지원하지 않는 이미지면 에러가 발생\n",
    "\n",
    "from PIL import Image\n",
    "\n",
    "def watermark_with_transparency(input_image_path, output_image_path, watermark_image_path, position):\n",
    "    base_image = Image.open(input_image_path)\n",
    "    watermark = Image.open(watermark_image_path)\n",
    "    width, height = base_image.size\n",
    "    transparent = Image.new(\"RGB\", (width, height), (0,0,0,0))\n",
    "    transparent.paste(base_image, (0,0))\n",
    "    transparent.paste(watermark, position, mask=watermark)\n",
    "    transparent.save(output_image_path)\n",
    "\n",
    "if __name__ == \"__main__\":\n",
    "    watermark_with_transparency(\"hummingbird.jpg\", \"hummingbird_watermarked2.jpg\", \"logo.png\", position=(10,10))"
   ]
  },
  {
   "cell_type": "code",
   "execution_count": 11,
   "metadata": {},
   "outputs": [],
   "source": [
    "# Image Composite\n",
    "\n",
    "from PIL import Image\n",
    "\n",
    "def composite_image(input_image_path, input_image_path_2, output_path):\n",
    "    image1 = Image.open(input_image_path)\n",
    "    image2 = Image.open(input_image_path_2).resize(image1.size)\n",
    "    mask = Image.new(\"L\", image1.size, 150)  # 0 ~ 255\n",
    "    compoisted_images = Image.composite(image1,image2, mask)\n",
    "    compoisted_images.save(output_path)\n",
    "\n",
    "if __name__ == \"__main__\":\n",
    "    composite_image(\"hummingbird.jpg\",\"silver_falls.jpg\",\"composited.jpg\")"
   ]
  },
  {
   "cell_type": "code",
   "execution_count": 16,
   "metadata": {},
   "outputs": [],
   "source": [
    "# Image Blending\n",
    "\n",
    "from PIL import Image\n",
    "\n",
    "def blend(input_image_path, input_image_path_2, output_path, alpha):\n",
    "    image1 = Image.open(input_image_path).convert(\"RGBA\")\n",
    "    image2 = Image.open(input_image_path_2).convert(\"RGBA\")\n",
    "    if image1.size != image2.size:\n",
    "        print(\"이미지가 같은 크기가 아닙니다.\")\n",
    "        return\n",
    "    blended_image = Image.blend(image1, image2, alpha)\n",
    "    blended_image.save(output_path)\n",
    "\n",
    "if __name__ == \"__main__\":\n",
    "    blend(\"silver_falls2.jpg\",\"silver_falls.jpg\",\"blended.png\",alpha=0.7)"
   ]
  },
  {
   "cell_type": "code",
   "execution_count": null,
   "metadata": {},
   "outputs": [],
   "source": []
  }
 ]
}