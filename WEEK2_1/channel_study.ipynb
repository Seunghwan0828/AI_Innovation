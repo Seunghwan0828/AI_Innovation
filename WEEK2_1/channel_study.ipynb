{
 "metadata": {
  "language_info": {
   "codemirror_mode": {
    "name": "ipython",
    "version": 3
   },
   "file_extension": ".py",
   "mimetype": "text/x-python",
   "name": "python",
   "nbconvert_exporter": "python",
   "pygments_lexer": "ipython3",
   "version": "3.9.5"
  },
  "orig_nbformat": 2,
  "kernelspec": {
   "name": "python395jvsc74a57bd02bc7bb3578061b6ee77252c89360eaabcc087b4df69c2f48165510883e0d1ac4",
   "display_name": "Python 3.9.5 64-bit ('venv_week2')"
  },
  "metadata": {
   "interpreter": {
    "hash": "2bc7bb3578061b6ee77252c89360eaabcc087b4df69c2f48165510883e0d1ac4"
   }
  }
 },
 "nbformat": 4,
 "nbformat_minor": 2,
 "cells": [
  {
   "cell_type": "code",
   "execution_count": 4,
   "metadata": {},
   "outputs": [],
   "source": [
    "# Channel Operation 줄여서 chops RGB, L 모드 수정해서 이미지에 효과\n",
    "\n",
    "from PIL import Image, ImageChops\n",
    "\n",
    "def add_images(image_path_one, image_path_two, output_path, scale=3.0, offset=0):\n",
    "    image_one = Image.open(image_path_one)\n",
    "    image_two = Image.open(image_path_two)\n",
    "    image_three = ImageChops.add(image_one, image_two, scale=scale, offset=offset)\n",
    "    image_three.save(output_path)\n",
    "\n",
    "if __name__ == \"__main__\":\n",
    "    add_images(\"silver_falls.jpg\", \"silver_falls2.jpg\",\"chops_image.jpg\")"
   ]
  },
  {
   "cell_type": "code",
   "execution_count": 5,
   "metadata": {},
   "outputs": [],
   "source": [
    "from PIL import Image, ImageChops\n",
    "\n",
    "def darken(image_path_one, image_path_two, output_path):\n",
    "    image_one = Image.open(image_path_one)\n",
    "    image_two = Image.open(image_path_two)\n",
    "    image_three = ImageChops.darker(image_one, image_two)\n",
    "    image_three.save(output_path)\n",
    "\n",
    "if __name__ == \"__main__\":\n",
    "    darken(\"silver_falls.jpg\", \"silver_falls2.jpg\",\"darker_image.jpg\")"
   ]
  },
  {
   "cell_type": "code",
   "execution_count": 6,
   "metadata": {},
   "outputs": [],
   "source": [
    "from PIL import Image, ImageChops\n",
    "\n",
    "def lighter(image_path_one, image_path_two, output_path):\n",
    "    image_one = Image.open(image_path_one)\n",
    "    image_two = Image.open(image_path_two)\n",
    "    image_three = ImageChops.lighter(image_one, image_two)\n",
    "    image_three.save(output_path)\n",
    "\n",
    "if __name__ == \"__main__\":\n",
    "    lighter(\"silver_falls.jpg\", \"silver_falls2.jpg\",\"lighter_image.jpg\")"
   ]
  },
  {
   "cell_type": "code",
   "execution_count": 8,
   "metadata": {},
   "outputs": [],
   "source": [
    "from PIL import Image, ImageChops\n",
    "\n",
    "def diff(image_path_one, image_path_two, output_path):\n",
    "    image_one = Image.open(image_path_one)\n",
    "    image_two = Image.open(image_path_two)\n",
    "    image_three = ImageChops.difference(image_one, image_two)\n",
    "    image_three.save(output_path)\n",
    "\n",
    "if __name__ == \"__main__\":\n",
    "    diff(\"hummingbird.jpg\", \"hummingbird_watermarked2.jpg\",\"diff_image.jpg\")"
   ]
  },
  {
   "cell_type": "code",
   "execution_count": 9,
   "metadata": {},
   "outputs": [],
   "source": [
    "from PIL import Image, ImageChops\n",
    "\n",
    "def diff(image_path, output_path):\n",
    "    image = Image.open(image_path)\n",
    "    inverterd_image = ImageChops.invert(image)\n",
    "    inverterd_image.save(output_path)\n",
    "\n",
    "if __name__ == \"__main__\":\n",
    "    diff(\"hummingbird.jpg\", \"inverted_image.jpg\")"
   ]
  },
  {
   "cell_type": "code",
   "execution_count": 10,
   "metadata": {},
   "outputs": [],
   "source": [
    "from PIL import Image, ImageChops\n",
    "\n",
    "def soft_light(image_path_one, image_path_two, output_path):\n",
    "    image_one = Image.open(image_path_one)\n",
    "    image_two = Image.open(image_path_two)\n",
    "    image_three = ImageChops.soft_light(image_one,image_two)\n",
    "    image_three.save(output_path)\n",
    "\n",
    "if __name__ == \"__main__\":\n",
    "    soft_light(\"silver_falls.jpg\", \"silver_falls2.jpg\",\"soft_light.jpg\")"
   ]
  },
  {
   "cell_type": "code",
   "execution_count": 11,
   "metadata": {},
   "outputs": [],
   "source": [
    "from PIL import Image, ImageChops\n",
    "\n",
    "def hard_light(image_path_one, image_path_two, output_path):\n",
    "    image_one = Image.open(image_path_one)\n",
    "    image_two = Image.open(image_path_two)\n",
    "    image_three = ImageChops.hard_light(image_one,image_two)\n",
    "    image_three.save(output_path)\n",
    "\n",
    "if __name__ == \"__main__\":\n",
    "    hard_light(\"silver_falls.jpg\", \"silver_falls2.jpg\",\"hard_light.jpg\")"
   ]
  },
  {
   "cell_type": "code",
   "execution_count": 12,
   "metadata": {},
   "outputs": [],
   "source": [
    "from PIL import Image, ImageChops\n",
    "\n",
    "def overlay(image_path_one, image_path_two, output_path):\n",
    "    image_one = Image.open(image_path_one)\n",
    "    image_two = Image.open(image_path_two)\n",
    "    image_three = ImageChops.overlay(image_one,image_two)\n",
    "    image_three.save(output_path)\n",
    "\n",
    "if __name__ == \"__main__\":\n",
    "    overlay(\"silver_falls.jpg\", \"silver_falls2.jpg\",\"overlay.jpg\")"
   ]
  },
  {
   "cell_type": "code",
   "execution_count": null,
   "metadata": {},
   "outputs": [],
   "source": [
    "  "
   ]
  }
 ]
}