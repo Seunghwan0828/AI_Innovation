{
 "metadata": {
  "language_info": {
   "codemirror_mode": {
    "name": "ipython",
    "version": 3
   },
   "file_extension": ".py",
   "mimetype": "text/x-python",
   "name": "python",
   "nbconvert_exporter": "python",
   "pygments_lexer": "ipython3",
   "version": "3.9.5"
  },
  "orig_nbformat": 2,
  "kernelspec": {
   "name": "python395jvsc74a57bd09b0fd201ea7331130c560fc55eb67530def459b300e283f895ded95e2d83441c",
   "display_name": "Python 3.9.5 64-bit ('venv_week2_2')"
  },
  "metadata": {
   "interpreter": {
    "hash": "9b0fd201ea7331130c560fc55eb67530def459b300e283f895ded95e2d83441c"
   }
  }
 },
 "nbformat": 4,
 "nbformat_minor": 2,
 "cells": [
  {
   "cell_type": "code",
   "execution_count": 6,
   "metadata": {},
   "outputs": [],
   "source": [
    "import random\n",
    "from PIL import Image, ImageDraw\n",
    "\n",
    "def line(image_path, output_path):\n",
    "    image = Image.open(image_path)\n",
    "    draw = ImageDraw.Draw(image)\n",
    "    colors = [\"red\", \"green\", \"blue\", \"yellow\", \"purple\", \"orange\"]\n",
    "\n",
    "    for i in range(0 , 100, 20):\n",
    "        draw.line((i,0) + image.size, width=5, fill=random.choice(colors))\n",
    "\n",
    "    image.save(output_path)\n",
    "\n",
    "if __name__ == \"__main__\":\n",
    "    line(\"hummingbird.jpg\",\"lines.jpg\")"
   ]
  },
  {
   "cell_type": "code",
   "execution_count": 8,
   "metadata": {},
   "outputs": [],
   "source": [
    "from PIL import Image, ImageDraw\n",
    "\n",
    "def line(output_path):\n",
    "    points = [(100,100), (150,200), (200,50), (400,400)]\n",
    "    image = Image.new(\"RGB\", (400, 400), \"yellow\")\n",
    "    draw = ImageDraw.Draw(image)\n",
    "    draw.line(points, width=15, fill=\"green\", joint=\"curve\")\n",
    "    image.save(output_path)\n",
    "\n",
    "if __name__ == \"__main__\":\n",
    "    line(\"jointed_lines.jpg\")"
   ]
  },
  {
   "cell_type": "code",
   "execution_count": 11,
   "metadata": {},
   "outputs": [],
   "source": [
    "from PIL import Image, ImageDraw\n",
    "\n",
    "def arc(output_path):\n",
    "    image = Image.new(\"RGB\",  (400,400), \"white\")\n",
    "    draw = ImageDraw.Draw(image)\n",
    "    draw.arc((25, 50, 175, 200), start=30, end=250, fill=\"green\")\n",
    "\n",
    "    draw.arc((100, 150, 275, 300), start=20, end=100, width=5, fill=\"yellow\")\n",
    "    image.save(output_path)\n",
    "\n",
    "if __name__ == \"__main__\":\n",
    "    arc(\"arc.jpg\")"
   ]
  },
  {
   "cell_type": "code",
   "execution_count": 1,
   "metadata": {},
   "outputs": [],
   "source": [
    "from PIL import Image, ImageDraw\n",
    "\n",
    "def chord(output_path):\n",
    "    image = Image.new(\"RGB\",  (400,400), \"white\")\n",
    "    draw = ImageDraw.Draw(image)\n",
    "    draw.chord((25, 50, 175, 200), start=30, end=250, fill=\"green\")\n",
    "\n",
    "    draw.chord((100, 150, 275, 300), start=20, end=100, width=5, fill=\"yellow\", outline=\"blue\")\n",
    "    image.save(output_path)\n",
    "\n",
    "if __name__ == \"__main__\":\n",
    "    chord(\"chord.jpg\")"
   ]
  },
  {
   "cell_type": "code",
   "execution_count": 5,
   "metadata": {},
   "outputs": [],
   "source": [
    "from PIL import Image, ImageDraw\n",
    "\n",
    "def ellipse(output_path):\n",
    "    image = Image.new(\"RGB\",  (400,400), \"white\")\n",
    "    draw = ImageDraw.Draw(image)\n",
    "    draw.ellipse((25, 50, 175, 250),fill=\"green\")\n",
    "\n",
    "    draw.ellipse((100, 150, 275, 300),fill=\"yellow\", outline=\"blue\")\n",
    "    image.save(output_path)\n",
    "\n",
    "if __name__ == \"__main__\":\n",
    "    ellipse(\"ellipse.jpg\")"
   ]
  },
  {
   "cell_type": "code",
   "execution_count": 2,
   "metadata": {},
   "outputs": [
    {
     "output_type": "error",
     "ename": "AttributeError",
     "evalue": "'ImageDraw' object has no attribute 'piellipse'",
     "traceback": [
      "\u001b[0;31m---------------------------------------------------------------------------\u001b[0m",
      "\u001b[0;31mAttributeError\u001b[0m                            Traceback (most recent call last)",
      "\u001b[0;32m<ipython-input-2-d38e769745b0>\u001b[0m in \u001b[0;36m<module>\u001b[0;34m\u001b[0m\n\u001b[1;32m     10\u001b[0m \u001b[0;34m\u001b[0m\u001b[0m\n\u001b[1;32m     11\u001b[0m \u001b[0;32mif\u001b[0m \u001b[0m__name__\u001b[0m \u001b[0;34m==\u001b[0m \u001b[0;34m\"__main__\"\u001b[0m\u001b[0;34m:\u001b[0m\u001b[0;34m\u001b[0m\u001b[0;34m\u001b[0m\u001b[0m\n\u001b[0;32m---> 12\u001b[0;31m     \u001b[0mpiellipse\u001b[0m\u001b[0;34m(\u001b[0m\u001b[0;34m\"piellipse.jpg\"\u001b[0m\u001b[0;34m)\u001b[0m\u001b[0;34m\u001b[0m\u001b[0;34m\u001b[0m\u001b[0m\n\u001b[0m",
      "\u001b[0;32m<ipython-input-2-d38e769745b0>\u001b[0m in \u001b[0;36mpiellipse\u001b[0;34m(output_path)\u001b[0m\n\u001b[1;32m      4\u001b[0m     \u001b[0mimage\u001b[0m \u001b[0;34m=\u001b[0m \u001b[0mImage\u001b[0m\u001b[0;34m.\u001b[0m\u001b[0mnew\u001b[0m\u001b[0;34m(\u001b[0m\u001b[0;34m\"RGB\"\u001b[0m\u001b[0;34m,\u001b[0m  \u001b[0;34m(\u001b[0m\u001b[0;36m400\u001b[0m\u001b[0;34m,\u001b[0m\u001b[0;36m400\u001b[0m\u001b[0;34m)\u001b[0m\u001b[0;34m,\u001b[0m \u001b[0;34m\"white\"\u001b[0m\u001b[0;34m)\u001b[0m\u001b[0;34m\u001b[0m\u001b[0;34m\u001b[0m\u001b[0m\n\u001b[1;32m      5\u001b[0m     \u001b[0mdraw\u001b[0m \u001b[0;34m=\u001b[0m \u001b[0mImageDraw\u001b[0m\u001b[0;34m.\u001b[0m\u001b[0mDraw\u001b[0m\u001b[0;34m(\u001b[0m\u001b[0mimage\u001b[0m\u001b[0;34m)\u001b[0m\u001b[0;34m\u001b[0m\u001b[0;34m\u001b[0m\u001b[0m\n\u001b[0;32m----> 6\u001b[0;31m     \u001b[0mdraw\u001b[0m\u001b[0;34m.\u001b[0m\u001b[0mpiellipse\u001b[0m\u001b[0;34m(\u001b[0m\u001b[0;34m(\u001b[0m\u001b[0;36m25\u001b[0m\u001b[0;34m,\u001b[0m \u001b[0;36m50\u001b[0m\u001b[0;34m,\u001b[0m \u001b[0;36m175\u001b[0m\u001b[0;34m,\u001b[0m \u001b[0;36m200\u001b[0m\u001b[0;34m)\u001b[0m\u001b[0;34m,\u001b[0m \u001b[0mstart\u001b[0m\u001b[0;34m=\u001b[0m\u001b[0;36m30\u001b[0m\u001b[0;34m,\u001b[0m \u001b[0mend\u001b[0m\u001b[0;34m=\u001b[0m\u001b[0;36m250\u001b[0m\u001b[0;34m,\u001b[0m \u001b[0mfill\u001b[0m\u001b[0;34m=\u001b[0m\u001b[0;34m\"green\"\u001b[0m\u001b[0;34m)\u001b[0m\u001b[0;34m\u001b[0m\u001b[0;34m\u001b[0m\u001b[0m\n\u001b[0m\u001b[1;32m      7\u001b[0m \u001b[0;34m\u001b[0m\u001b[0m\n\u001b[1;32m      8\u001b[0m     \u001b[0mdraw\u001b[0m\u001b[0;34m.\u001b[0m\u001b[0mpiellipse\u001b[0m\u001b[0;34m(\u001b[0m\u001b[0;34m(\u001b[0m\u001b[0;36m100\u001b[0m\u001b[0;34m,\u001b[0m \u001b[0;36m150\u001b[0m\u001b[0;34m,\u001b[0m \u001b[0;36m275\u001b[0m\u001b[0;34m,\u001b[0m \u001b[0;36m300\u001b[0m\u001b[0;34m)\u001b[0m\u001b[0;34m,\u001b[0m \u001b[0mstart\u001b[0m\u001b[0;34m=\u001b[0m\u001b[0;36m20\u001b[0m\u001b[0;34m,\u001b[0m \u001b[0mend\u001b[0m\u001b[0;34m=\u001b[0m\u001b[0;36m100\u001b[0m\u001b[0;34m,\u001b[0m \u001b[0mwidth\u001b[0m\u001b[0;34m=\u001b[0m\u001b[0;36m5\u001b[0m\u001b[0;34m,\u001b[0m \u001b[0mfill\u001b[0m\u001b[0;34m=\u001b[0m\u001b[0;34m\"yellow\"\u001b[0m\u001b[0;34m)\u001b[0m\u001b[0;34m\u001b[0m\u001b[0;34m\u001b[0m\u001b[0m\n",
      "\u001b[0;31mAttributeError\u001b[0m: 'ImageDraw' object has no attribute 'piellipse'"
     ]
    }
   ],
   "source": [
    "from PIL import Image, ImageDraw\n",
    "\n",
    "def piellipse(output_path):\n",
    "    image = Image.new(\"RGB\",  (400,400), \"white\")\n",
    "    draw = ImageDraw.Draw(image)\n",
    "    draw.piellipse((25, 50, 175, 200), start=30, end=250, fill=\"green\")\n",
    "\n",
    "    draw.piellipse((100, 150, 275, 300), start=20, end=100, width=5, fill=\"yellow\")\n",
    "    image.save(output_path)\n",
    "\n",
    "if __name__ == \"__main__\":\n",
    "    piellipse(\"piellipse.jpg\")"
   ]
  },
  {
   "cell_type": "code",
   "execution_count": 4,
   "metadata": {},
   "outputs": [],
   "source": [
    "from PIL import Image, ImageDraw\n",
    "\n",
    "def polygon(output_path):\n",
    "    image = Image.new(\"RGB\",  (400,400), \"white\")\n",
    "    draw = ImageDraw.Draw(image)\n",
    "    draw.polygon(((100, 100),(200, 50), (125,25),(300,75)),fill=\"green\")\n",
    "\n",
    "    draw.polygon(((175, 100),(225,50),(200,25),(200,25)), outline=\"yellow\")\n",
    "    image.save(output_path)\n",
    "\n",
    "if __name__ == \"__main__\":\n",
    "    polygon(\"polygon.jpg\")"
   ]
  },
  {
   "cell_type": "code",
   "execution_count": 6,
   "metadata": {},
   "outputs": [],
   "source": [
    "from PIL import Image, ImageDraw\n",
    "\n",
    "def rectangle(output_path):\n",
    "    image = Image.new(\"RGB\",  (400,400), \"white\")\n",
    "    draw = ImageDraw.Draw(image)\n",
    "    draw.rectangle((200,100,300,200),fill=\"green\")\n",
    "\n",
    "    draw.rectangle((50,50,150,150), fill=\"green\", outline=\"yellow\")\n",
    "    image.save(output_path)\n",
    "\n",
    "if __name__ == \"__main__\":\n",
    "    rectangle(\"rectangle.jpg\")"
   ]
  },
  {
   "cell_type": "code",
   "execution_count": 8,
   "metadata": {},
   "outputs": [],
   "source": [
    "from PIL import Image, ImageDraw\n",
    "\n",
    "def text(output_path):\n",
    "    image = Image.new(\"RGB\",  (400,400), \"green\")\n",
    "    draw = ImageDraw.Draw(image)\n",
    "    draw.text((10,10), \"hello\")\n",
    "    draw.text((10,25), \"Conputer vision\")\n",
    "    image.save(output_path)\n",
    "\n",
    "if __name__ == \"__main__\":\n",
    "    text(\"text.jpg\")"
   ]
  },
  {
   "cell_type": "code",
   "execution_count": 18,
   "metadata": {},
   "outputs": [],
   "source": [
    "from PIL import Image, ImageDraw, ImageFont\n",
    "\n",
    "def text(output_path):\n",
    "    image = Image.new(\"RGB\",  (400,400), \"green\")\n",
    "    draw = ImageDraw.Draw(image)\n",
    "    font = ImageFont.truetype(\"NanumGothic.ttf\")\n",
    "    draw.text((10,10), \"안녕하세요\",font=font)\n",
    "    draw.text((10,25), \"Conputer vision\",font=font)\n",
    "    image.save(output_path)\n",
    "\n",
    "if __name__ == \"__main__\":\n",
    "    text(\"truetype.jpg\")"
   ]
  },
  {
   "cell_type": "code",
   "execution_count": 17,
   "metadata": {},
   "outputs": [],
   "source": [
    "from PIL import Image, ImageDraw, ImageFont\n",
    "\n",
    "def text(input_image_path, output_path):\n",
    "    image = Image.open(input_image_path)\n",
    "    draw = ImageDraw.Draw(image)\n",
    "    y = 10\n",
    "    for font_size in range(12, 75, 10):\n",
    "        font =ImageFont.truetype(\"NanumGothic.ttf\",size=font_size)\n",
    "        draw.text((10,y),f\"이미지에 글자넣기 ({font_size=})\", font=font)\n",
    "        y += 35\n",
    "    image.save(output_path)\n",
    "\n",
    "if __name__ == \"__main__\":\n",
    "    text(\"hummingbird.jpg\", \"hummingbird_with_text.jpg\")"
   ]
  },
  {
   "cell_type": "code",
   "execution_count": 20,
   "metadata": {},
   "outputs": [],
   "source": [
    "import glob\n",
    "from PIL import Image, ImageDraw, ImageFont\n",
    "\n",
    "def text(input_image_path, output_path):\n",
    "    image = Image.open(input_image_path)\n",
    "    draw = ImageDraw.Draw(image)\n",
    "    y = 10\n",
    "    ttf_files = glob.glob(\"*.ttf\")\n",
    "    for ttf_file in ttf_files:\n",
    "        font = ImageFont.truetype(ttf_file, size=44)\n",
    "        draw.text((10, y), f\"{ttf_file} (font_size=44)\", font=font)\n",
    "        y +=35\n",
    "    image.save(output_path)\n",
    "\n",
    "if __name__ == \"__main__\":\n",
    "    text(\"hummingbird.jpg\", \"hummingbird_multifont.jpg\")"
   ]
  },
  {
   "cell_type": "code",
   "execution_count": 2,
   "metadata": {},
   "outputs": [],
   "source": [
    "from PIL import Image, ImageDraw, ImageFont\n",
    "\n",
    "def text_color(output_path):\n",
    "    image = Image.new(\"RGB\", (600,600), \"white\")\n",
    "    draw = ImageDraw.Draw(image)\n",
    "    colors = [\"green\", \"blue\", \"red\", \"yellow\", \"purple\"]\n",
    "    font = ImageFont.truetype(\"NanumGothic.ttf\", size=30)\n",
    "    y =10\n",
    "    for color in colors:\n",
    "        draw.text((10,y), f\"안녕하세요 Computer Vision 학습중\", font=font, fill=color)\n",
    "        y += 50\n",
    "        image.save(output_path)\n",
    "\n",
    "if __name__ == \"__main__\":\n",
    "    text_color(\"colored_text.jpg\")"
   ]
  },
  {
   "cell_type": "code",
   "execution_count": 9,
   "metadata": {},
   "outputs": [],
   "source": [
    "from PIL import Image, ImageDraw, ImageFont\n",
    "\n",
    "def text(input_image_path,output_path):\n",
    "    image = Image.open(input_image_path)\n",
    "    draw = ImageDraw.Draw(image)\n",
    "    font = ImageFont.truetype(\"NanumGothic.ttf\", size=100)\n",
    "    #text = \"안녕하세요! 컴퓨터 비전\\n재밌으신가요?\"\n",
    "    text = \"\"\"\n",
    "    안녕하세요! 컴퓨터 비전\n",
    "                재밌으신가요?\n",
    "    \"\"\"\n",
    "    #draw.text((10,25), text , font=font)\n",
    "    draw.multiline_text((10,25), text, font=font)\n",
    "    image.save(output_path)\n",
    "\n",
    "if __name__ == \"__main__\":\n",
    "    text(\"hummingbird.jpg\",\"hummingbird_multiline_text.jpg\")"
   ]
  },
  {
   "cell_type": "code",
   "execution_count": 20,
   "metadata": {},
   "outputs": [],
   "source": [
    "from PIL import Image, ImageDraw, ImageFont\n",
    "\n",
    "def aligment(output_path):\n",
    "    image = Image.new(\"RGB\", (600,600), \"white\")\n",
    "    draw = ImageDraw.Draw(image)\n",
    "    aligments = [\"left\", \"center\", \"right\"]\n",
    "    y = 10\n",
    "    font = ImageFont.truetype(\"NanumGothic.ttf\", size=12)\n",
    "    for aligment in aligments:\n",
    "        draw.text((10,y), f\"Hello Pillow Libray\\nCV!\", font=font, align=aligment, fill=\"black\")\n",
    "        y +=35\n",
    "\n",
    "    image.save(output_path)\n",
    "\n",
    "if __name__ == \"__main__\":\n",
    "    aligment(\"aligned_text.jpg\")"
   ]
  },
  {
   "cell_type": "code",
   "execution_count": 8,
   "metadata": {},
   "outputs": [
    {
     "output_type": "stream",
     "name": "stdout",
     "text": [
      "103 22\n"
     ]
    }
   ],
   "source": [
    "from PIL import Image, ImageDraw, ImageFont\n",
    "\n",
    "def center(output_path):\n",
    "    width, height = (400,400)\n",
    "    image = Image.new(\"RGB\", (width,height), \"grey\")\n",
    "    draw = ImageDraw.Draw(image)\n",
    "    font = ImageFont.truetype(\"NanumGothic.ttf\", size=20)\n",
    "    text = \"안녕하세요!\"\n",
    "    font_width, font_height = font.getsize(text)\n",
    "    print(font_width,font_height)\n",
    "\n",
    "    new_width = (width - font_width)/2\n",
    "    new_height = (height - font_height)/2\n",
    "    draw.text((new_width,new_height), text, font=font,fill=\"black\")\n",
    "    image.save(output_path)\n",
    "\n",
    "if __name__ == \"__main__\":\n",
    "    center(\"centered_text.jpg\")"
   ]
  },
  {
   "cell_type": "code",
   "execution_count": 16,
   "metadata": {},
   "outputs": [],
   "source": [
    "from PIL import Image, ImageDraw, ImageFont\n",
    "\n",
    "def change_opacity(input_path,output_path):\n",
    "    base_image = Image.open(input_path).convert(\"RGBA\")\n",
    "\n",
    "    txt_img = Image.new(\"RGBA\", base_image.size, (255,255,255,0))\n",
    "    font = ImageFont.truetype(\"NanumGothic.ttf\", 40)\n",
    "    draw = ImageDraw.Draw(txt_img)\n",
    "\n",
    "    draw.text((10,10), \"Computer Vision\", font=font, fill=(255,255,255,128))  # 반정도 투명도\n",
    "    draw.text((10,60), \"Computer Vision\", font=font, fill=(255,255,255,55))\n",
    "    draw.text((10,110), \"Computer Vision\", font=font, fill=(255,255,255,255))  # 전체 투명도\n",
    "\n",
    "    composite = Image.alpha_composite(base_image, txt_img)\n",
    "    composite.save(output_path)\n",
    "\n",
    "if __name__ == \"__main__\":\n",
    "    change_opacity(\"hummingbird.jpg\",\"hummingbird_opacity.png\")  "
   ]
  },
  {
   "cell_type": "code",
   "execution_count": 4,
   "metadata": {},
   "outputs": [],
   "source": [
    "from PIL import Image, ImageDraw, ImageFont\n",
    "\n",
    "def anchor(xy = (100,100), anchor=\"la\"):\n",
    "    font = ImageFont.truetype(\"NanumGothic.ttf\",32)\n",
    "    image = Image.new(\"RGB\", (400,400), \"white\")\n",
    "    draw = ImageDraw.Draw(image)\n",
    "\n",
    "    draw.line(((0,200),(400,200)),\"gray\")\n",
    "    draw.line(((200,0),(200,400)),\"gray\")\n",
    "    draw.text((200,200),\"파이썬\", fill=\"black\", anchor=anchor,font=font)\n",
    "    image.save(f\"anchor_{anchor}.jpg\")\n",
    "\n",
    "if __name__ == \"__main__\":\n",
    "    anchor(anchor=\"ma\")"
   ]
  }
 ]
}